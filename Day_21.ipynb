{
  "nbformat": 4,
  "nbformat_minor": 0,
  "metadata": {
    "colab": {
      "provenance": [],
      "authorship_tag": "ABX9TyM/qmeNWSAIuC3VABq5xtqA",
      "include_colab_link": true
    },
    "kernelspec": {
      "name": "python3",
      "display_name": "Python 3"
    },
    "language_info": {
      "name": "python"
    }
  },
  "cells": [
    {
      "cell_type": "markdown",
      "metadata": {
        "id": "view-in-github",
        "colab_type": "text"
      },
      "source": [
        "<a href=\"https://colab.research.google.com/github/Navjotkarkhal/TR-102-/blob/main/Day_21.ipynb\" target=\"_parent\"><img src=\"https://colab.research.google.com/assets/colab-badge.svg\" alt=\"Open In Colab\"/></a>"
      ]
    },
    {
      "cell_type": "markdown",
      "source": [
        "**Introduction to Exception Handling**\n",
        "Exception handling in Python is a mechanism to respond to runtime errors, preventing the program from crashing and allowing the program to handle errors gracefully. It helps in debugging, maintaining clean code, and providing user-friendly error messages."
      ],
      "metadata": {
        "id": "uzp7fGL1d6f3"
      }
    },
    {
      "cell_type": "code",
      "execution_count": 1,
      "metadata": {
        "colab": {
          "base_uri": "https://localhost:8080/"
        },
        "id": "PAgqyFh8ymZr",
        "outputId": "d89d1bf2-d321-4d6c-e794-097d1c9ddf0d"
      },
      "outputs": [
        {
          "output_type": "stream",
          "name": "stdout",
          "text": [
            "Execution of divide function complete.\n",
            "5.0\n",
            "Execution of divide function complete.\n",
            "Cannot divide by zero!\n"
          ]
        }
      ],
      "source": [
        "def divide(a, b):\n",
        "    try:\n",
        "        result = a / b\n",
        "    except ZeroDivisionError:\n",
        "        return \"Cannot divide by zero!\"\n",
        "    else:\n",
        "        return result\n",
        "    finally:\n",
        "        print(\"Execution of divide function complete.\")\n",
        "\n",
        "print(divide(10, 2))  # Output: 5.0\n",
        "print(divide(10, 0))  # Output: Cannot divide by zero!"
      ]
    },
    {
      "cell_type": "code",
      "source": [
        "\n",
        "print(10/0)"
      ],
      "metadata": {
        "colab": {
          "base_uri": "https://localhost:8080/",
          "height": 141
        },
        "id": "reEMz5jizf8i",
        "outputId": "2d61d398-9f74-48e6-b45a-5fb53bdcef9b"
      },
      "execution_count": 2,
      "outputs": [
        {
          "output_type": "error",
          "ename": "ZeroDivisionError",
          "evalue": "division by zero",
          "traceback": [
            "\u001b[0;31m---------------------------------------------------------------------------\u001b[0m",
            "\u001b[0;31mZeroDivisionError\u001b[0m                         Traceback (most recent call last)",
            "\u001b[0;32m<ipython-input-2-fe01563e1bc6>\u001b[0m in \u001b[0;36m<cell line: 1>\u001b[0;34m()\u001b[0m\n\u001b[0;32m----> 1\u001b[0;31m \u001b[0mprint\u001b[0m\u001b[0;34m(\u001b[0m\u001b[0;36m10\u001b[0m\u001b[0;34m/\u001b[0m\u001b[0;36m0\u001b[0m\u001b[0;34m)\u001b[0m\u001b[0;34m\u001b[0m\u001b[0;34m\u001b[0m\u001b[0m\n\u001b[0m",
            "\u001b[0;31mZeroDivisionError\u001b[0m: division by zero"
          ]
        }
      ]
    },
    {
      "cell_type": "code",
      "source": [
        "def read_file(file_path):\n",
        "    try:\n",
        "        with open(file_path, 'r') as file:\n",
        "            data = file.read()\n",
        "    except FileNotFoundError:\n",
        "        return \"File not found!\"\n",
        "    except IOError:\n",
        "        return \"Error reading file!\"\n",
        "    else:\n",
        "        return data\n",
        "    finally:\n",
        "        print(\"Execution of read_file function complete.\")\n",
        "\n",
        "print(read_file(\"existing_file.txt\"))  # Output: (contents of the file)\n",
        "print(read_file(\"nonexistent_file.txt\"))  # Output: File not found!"
      ],
      "metadata": {
        "colab": {
          "base_uri": "https://localhost:8080/"
        },
        "id": "AgkQUuJmedtr",
        "outputId": "cfde527e-d67c-4088-ed76-41869b1bc03f"
      },
      "execution_count": 3,
      "outputs": [
        {
          "output_type": "stream",
          "name": "stdout",
          "text": [
            "Execution of read_file function complete.\n",
            "File not found!\n",
            "Execution of read_file function complete.\n",
            "File not found!\n"
          ]
        }
      ]
    },
    {
      "cell_type": "code",
      "source": [
        "def process_input(value):\n",
        "    try:\n",
        "        result = int(value)\n",
        "    except ValueError:\n",
        "        return \"Invalid input! Please enter a number.\"\n",
        "    except TypeError:\n",
        "        return \"Invalid type! Please enter a valid input.\"\n",
        "    else:\n",
        "        return f\"Valid input: {result}\"\n",
        "    finally:\n",
        "        print(\"Execution of process_input function complete.\")"
      ],
      "metadata": {
        "id": "nOrz1v-Feh8I"
      },
      "execution_count": 4,
      "outputs": []
    },
    {
      "cell_type": "code",
      "source": [
        "def get_list_element(lst, index):\n",
        "    try:\n",
        "        return lst[index]\n",
        "    except IndexError as e:\n",
        "        return f\"IndexError: {e}\"\n",
        "\n",
        "my_list = [1, 2, 3]\n",
        "print(get_list_element(my_list, 2))  # Output: 3\n",
        "print(get_list_element(my_list, 5))  # Output: IndexError: list index out of range"
      ],
      "metadata": {
        "colab": {
          "base_uri": "https://localhost:8080/"
        },
        "id": "F5FzMAZmekrH",
        "outputId": "b3d1b33a-b789-4074-ad90-2f77873e61ec"
      },
      "execution_count": 5,
      "outputs": [
        {
          "output_type": "stream",
          "name": "stdout",
          "text": [
            "3\n",
            "IndexError: list index out of range\n"
          ]
        }
      ]
    },
    {
      "cell_type": "code",
      "source": [
        "def get_dict_value(d, key):\n",
        "    try:\n",
        "        return d[key]\n",
        "    except KeyError as e:\n",
        "        return f\"KeyError: {e}\"\n",
        "\n",
        "my_dict = {'a': 1, 'b': 2}\n",
        "print(get_dict_value(my_dict, 'a'))  # Output: 1\n",
        "print(get_dict_value(my_dict, 'c'))  # Output: KeyError: 'c'"
      ],
      "metadata": {
        "colab": {
          "base_uri": "https://localhost:8080/"
        },
        "id": "Fdehies0epWE",
        "outputId": "4bcbe795-ab23-45b9-cc94-098c5333d3a7"
      },
      "execution_count": 6,
      "outputs": [
        {
          "output_type": "stream",
          "name": "stdout",
          "text": [
            "1\n",
            "KeyError: 'c'\n"
          ]
        }
      ]
    },
    {
      "cell_type": "code",
      "source": [
        "def convert_to_int(value):\n",
        "    try:\n",
        "        return int(value)\n",
        "    except ValueError as e:\n",
        "        return f\"ValueError: {e}\"\n",
        "\n",
        "print(convert_to_int(\"123\"))  # Output: 123\n",
        "print(convert_to_int(\"abc\"))  # Output: ValueError: invalid literal for int() with base 10: 'abc'"
      ],
      "metadata": {
        "colab": {
          "base_uri": "https://localhost:8080/"
        },
        "id": "shay8VNwexdB",
        "outputId": "7b15060b-68f7-4c47-b581-439fdd7ccafe"
      },
      "execution_count": 7,
      "outputs": [
        {
          "output_type": "stream",
          "name": "stdout",
          "text": [
            "123\n",
            "ValueError: invalid literal for int() with base 10: 'abc'\n"
          ]
        }
      ]
    },
    {
      "cell_type": "code",
      "source": [],
      "metadata": {
        "id": "944jvLeRe2Vu"
      },
      "execution_count": null,
      "outputs": []
    }
  ]
}