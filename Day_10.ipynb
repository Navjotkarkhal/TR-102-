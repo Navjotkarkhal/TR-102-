{
  "nbformat": 4,
  "nbformat_minor": 0,
  "metadata": {
    "colab": {
      "provenance": [],
      "authorship_tag": "ABX9TyO/mTRQ5aS/2Kq8Ocvc3Vc2",
      "include_colab_link": true
    },
    "kernelspec": {
      "name": "python3",
      "display_name": "Python 3"
    },
    "language_info": {
      "name": "python"
    }
  },
  "cells": [
    {
      "cell_type": "markdown",
      "metadata": {
        "id": "view-in-github",
        "colab_type": "text"
      },
      "source": [
        "<a href=\"https://colab.research.google.com/github/Navjotkarkhal/TR-102-/blob/main/Day_10.ipynb\" target=\"_parent\"><img src=\"https://colab.research.google.com/assets/colab-badge.svg\" alt=\"Open In Colab\"/></a>"
      ]
    },
    {
      "cell_type": "markdown",
      "source": [
        "\"Day 10 of my training. Today I learned about methods in Python.\"\n",
        "\n",
        "At end I solve some Practical Questions of Methods"
      ],
      "metadata": {
        "id": "yTZ22A--zYq_"
      }
    },
    {
      "cell_type": "code",
      "execution_count": null,
      "metadata": {
        "colab": {
          "base_uri": "https://localhost:8080/"
        },
        "id": "PjWb3iSvTGzK",
        "outputId": "3c962071-0a10-473f-e0f2-bf375e42c67b"
      },
      "outputs": [
        {
          "output_type": "stream",
          "name": "stdout",
          "text": [
            "Welcome navjot\n"
          ]
        }
      ],
      "source": [
        "def greet(name):\n",
        "  print(f\"Welcome {name}\")                #function definition\n",
        "greet(\"navjot\")                              #function call"
      ]
    },
    {
      "cell_type": "code",
      "source": [
        "# lambda function\n",
        "product = lambda x,y: x*y\n",
        "print(product(2,3))"
      ],
      "metadata": {
        "colab": {
          "base_uri": "https://localhost:8080/"
        },
        "id": "I4SE2nu8TXTn",
        "outputId": "aa15a8cc-87ea-4b5a-bce2-4a1ad6c12d41"
      },
      "execution_count": null,
      "outputs": [
        {
          "output_type": "stream",
          "name": "stdout",
          "text": [
            "6\n"
          ]
        }
      ]
    },
    {
      "cell_type": "code",
      "source": [
        "# Recursive Functions\n",
        "def fact(n):\n",
        "  if n== 1 :\n",
        "    return 1;\n",
        "  else:\n",
        "    return n*fact(n-1)             #fucntion call itself\n",
        "\n",
        "fact(5)             #call funciton\n"
      ],
      "metadata": {
        "colab": {
          "base_uri": "https://localhost:8080/"
        },
        "id": "ELmAnTmjTwcF",
        "outputId": "6f431361-1b1e-47bf-89f1-fc340630068b"
      },
      "execution_count": null,
      "outputs": [
        {
          "output_type": "execute_result",
          "data": {
            "text/plain": [
              "120"
            ]
          },
          "metadata": {},
          "execution_count": 3
        }
      ]
    },
    {
      "cell_type": "code",
      "source": [
        "def info(**kwargs):\n",
        "  for key,value in kwargs:\n",
        "    print(\"kwargs.iteam()\")"
      ],
      "metadata": {
        "id": "y9RQV9P1UE7K"
      },
      "execution_count": null,
      "outputs": []
    },
    {
      "cell_type": "code",
      "source": [
        "def subtract(a, b):\n",
        "    return a - b\n",
        "subtract(67,90)"
      ],
      "metadata": {
        "colab": {
          "base_uri": "https://localhost:8080/"
        },
        "id": "8i8H4Vx7U6yK",
        "outputId": "748d6bc7-5d66-4be5-cd9d-afdb67b097d9"
      },
      "execution_count": null,
      "outputs": [
        {
          "output_type": "execute_result",
          "data": {
            "text/plain": [
              "-23"
            ]
          },
          "metadata": {},
          "execution_count": 6
        }
      ]
    },
    {
      "cell_type": "code",
      "source": [
        "def info(age,gender):\n",
        "  print(f\"Hi my age is :{age} and my gender is: {gender}\")\n",
        "info(19,\"female\")"
      ],
      "metadata": {
        "colab": {
          "base_uri": "https://localhost:8080/"
        },
        "id": "ZDkS0EO4VKyX",
        "outputId": "94b99a91-c6f2-4fa0-8ab0-283e421bdfbe"
      },
      "execution_count": null,
      "outputs": [
        {
          "output_type": "stream",
          "name": "stdout",
          "text": [
            "Hi my age is :19 and my gender is: female\n"
          ]
        }
      ]
    },
    {
      "cell_type": "code",
      "source": [
        "def gre.et(name, message):\n",
        "    return f\"{message}, {name}!\"\n",
        "\n",
        "result = greet(name=\"Alice\", message=\"Hello\")\n",
        "print(result)"
      ],
      "metadata": {
        "colab": {
          "base_uri": "https://localhost:8080/"
        },
        "id": "dMgWqKPoVqUq",
        "outputId": "6e861e8d-ed98-45b4-e01d-a0f19839aad3"
      },
      "execution_count": null,
      "outputs": [
        {
          "output_type": "stream",
          "name": "stdout",
          "text": [
            "Hello, Alice!\n"
          ]
        }
      ]
    },
    {
      "cell_type": "code",
      "source": [
        "# defalut arguments\n",
        "def greet(name,message = \"Hello\"):\n",
        "  return f\"{message},{name}!\"\n",
        "result1 = print(greet(\"Alice\"))\n",
        "result2 = print(greet(\"Bob\",\"Hi\"))\n"
      ],
      "metadata": {
        "colab": {
          "base_uri": "https://localhost:8080/"
        },
        "id": "AR9llmDlVzk0",
        "outputId": "405d8473-9a4e-4c54-becb-567857da2acb"
      },
      "execution_count": null,
      "outputs": [
        {
          "output_type": "stream",
          "name": "stdout",
          "text": [
            "Hello,Alice!\n",
            "Hi,Bob!\n"
          ]
        }
      ]
    },
    {
      "cell_type": "code",
      "source": [
        "# variable length arguments\n",
        "def sum_all(*a):\n",
        "  return sum(a)\n",
        "summation = print(sum_all(12,34,56,33,11,57,89))\n",
        "\n"
      ],
      "metadata": {
        "colab": {
          "base_uri": "https://localhost:8080/"
        },
        "id": "zNtmh_UeWiyC",
        "outputId": "2d5af0fb-1077-411d-ac0d-995c35c5aee1"
      },
      "execution_count": null,
      "outputs": [
        {
          "output_type": "stream",
          "name": "stdout",
          "text": [
            "292\n"
          ]
        }
      ]
    },
    {
      "cell_type": "code",
      "source": [
        "# print details\n",
        "def print_details(**g):\n",
        "    for key, value in g.items():\n",
        "        print(f\"{key}: {value}\")\n",
        "\n",
        "print_details(name=\"Alice\", age=30, city=\"New York\",H_No = 4)"
      ],
      "metadata": {
        "colab": {
          "base_uri": "https://localhost:8080/"
        },
        "id": "p4zmM2uuXCow",
        "outputId": "9a689dc3-009c-4a57-d462-27177e660330"
      },
      "execution_count": null,
      "outputs": [
        {
          "output_type": "stream",
          "name": "stdout",
          "text": [
            "name: Alice\n",
            "age: 30\n",
            "city: New York\n",
            "H_No: 4\n"
          ]
        }
      ]
    },
    {
      "cell_type": "markdown",
      "source": [
        "**Problem 1: **Write a Python function that takes a string as input and returns the reverse of the string."
      ],
      "metadata": {
        "id": "G3aPEVUSYNTS"
      }
    },
    {
      "cell_type": "code",
      "source": [
        "def rev_string(String):\n",
        "  return String[::-1]\n",
        "\n",
        "rev_string(\"navjot\")"
      ],
      "metadata": {
        "colab": {
          "base_uri": "https://localhost:8080/",
          "height": 36
        },
        "id": "c6zxMbD8X2tT",
        "outputId": "23883f40-d081-458d-97bd-572438df1237"
      },
      "execution_count": null,
      "outputs": [
        {
          "output_type": "execute_result",
          "data": {
            "text/plain": [
              "'tojvan'"
            ],
            "application/vnd.google.colaboratory.intrinsic+json": {
              "type": "string"
            }
          },
          "metadata": {},
          "execution_count": 19
        }
      ]
    },
    {
      "cell_type": "markdown",
      "source": [
        " **Problem 2:** Create a list of numbers. Write a function that finds and returns the maximum value in the list without using the built-in max() function."
      ],
      "metadata": {
        "id": "0WEhZkUJYjfo"
      }
    },
    {
      "cell_type": "code",
      "source": [
        "list1 = [12, 23, 7, 9, 50]\n",
        "\n",
        "def max_elem(lst):\n",
        "\n",
        "    if len(lst) == 0:\n",
        "        return -1\n",
        "\n",
        "\n",
        "    max_val = lst[0]\n",
        "\n",
        "\n",
        "    for i in range(1, len(lst)):\n",
        "\n",
        "        if lst[i] > max_val:\n",
        "            max_val = lst[i]\n",
        "\n",
        "    return max_val\n",
        "\n",
        "print(max_elem(list1))\n"
      ],
      "metadata": {
        "colab": {
          "base_uri": "https://localhost:8080/"
        },
        "id": "kbPUH-5iYevU",
        "outputId": "27b3f4c1-4483-4db2-e7e1-cb09a13b528f"
      },
      "execution_count": null,
      "outputs": [
        {
          "output_type": "stream",
          "name": "stdout",
          "text": [
            "50\n"
          ]
        }
      ]
    },
    {
      "cell_type": "markdown",
      "source": [
        "**Problem 3:**Define a function that accepts a list of integers and returns a new list containing only the even numbers from the original list."
      ],
      "metadata": {
        "id": "zDNLUMRScZGh"
      }
    },
    {
      "cell_type": "code",
      "source": [
        "list1 = [1, 2, 3, 4, 5, 6, 7, 8, 9, 10]\n",
        "list2 = []\n",
        "\n",
        "def even(lst):\n",
        "    for i in range(len(lst)):\n",
        "        if lst[i] % 2 == 0:\n",
        "            list2.append(lst[i])\n",
        "    return list2  # Return the updated list\n",
        "\n",
        "res = even(list1)\n",
        "print(res)\n",
        "\n",
        "\n"
      ],
      "metadata": {
        "colab": {
          "base_uri": "https://localhost:8080/"
        },
        "id": "0at01uR9ZGof",
        "outputId": "d6f012e0-d727-4cd9-ddd9-11c0c60d0e14"
      },
      "execution_count": null,
      "outputs": [
        {
          "output_type": "stream",
          "name": "stdout",
          "text": [
            "[2, 4, 6, 8, 10]\n"
          ]
        }
      ]
    },
    {
      "cell_type": "markdown",
      "source": [
        "**Problem 4:** Implement a Python function to check if a given word is a palindrome (reads the same backward as forward)."
      ],
      "metadata": {
        "id": "QZP7yOmAt9zY"
      }
    },
    {
      "cell_type": "code",
      "source": [
        "def palidrome(string):\n",
        "  for i in range(0,len(string)):\n",
        "    if string[::-1] == string:\n",
        "      print(\"string is palindrome\")\n",
        "    else:\n",
        "      return -1\n",
        "\n",
        "\n",
        "palidrome(\"madam\")"
      ],
      "metadata": {
        "id": "0xPieFooc_-B",
        "colab": {
          "base_uri": "https://localhost:8080/"
        },
        "outputId": "f13ae006-5ccf-4541-9bc3-95fe6c77e132"
      },
      "execution_count": null,
      "outputs": [
        {
          "output_type": "stream",
          "name": "stdout",
          "text": [
            "string is palindrome\n",
            "string is palindrome\n",
            "string is palindrome\n",
            "string is palindrome\n",
            "string is palindrome\n"
          ]
        }
      ]
    },
    {
      "cell_type": "markdown",
      "source": [
        "**Problem 5:** Create a dictionary with student names as keys and their corresponding ages as values. Write a function to find and print the names of students who are above a certain age."
      ],
      "metadata": {
        "id": "SLW6nkngu1q9"
      }
    },
    {
      "cell_type": "code",
      "source": [
        "student = {\"Navjot\":19,\n",
        "           \"akash\":21,\n",
        "           \"khuhsi\":20,\n",
        "           \"manpreet\":22,\n",
        "           \"raman\":35}\n",
        "def student_above_age(student,above_age):\n",
        "  for name,age in student.items():\n",
        "    if age>=above_age:\n",
        "      print(name)\n",
        "\n",
        "above_age = 22\n",
        "student_above_age(student,above_age)\n",
        "\n"
      ],
      "metadata": {
        "id": "jslriLDLugAU",
        "colab": {
          "base_uri": "https://localhost:8080/"
        },
        "outputId": "6790b926-d8a2-4e22-c35e-c62ec80ecaf7"
      },
      "execution_count": 8,
      "outputs": [
        {
          "output_type": "stream",
          "name": "stdout",
          "text": [
            "manpreet\n",
            "raman\n"
          ]
        }
      ]
    },
    {
      "cell_type": "markdown",
      "source": [
        "**Problem 6**: Develop a Python function that calculates the sum of squares for a given range of numbers.\n"
      ],
      "metadata": {
        "id": "Rqy5G_KSwp75"
      }
    },
    {
      "cell_type": "code",
      "source": [
        "\n",
        "\n",
        "def sum_square(n):\n",
        "    list1 = []\n",
        "    for i in range(n):\n",
        "        list1.append(i**2)\n",
        "    return sum(list1)\n",
        "\n",
        "# Example usage\n",
        "res = sum_square(10)\n",
        "print(res)\n",
        "\n",
        "\n"
      ],
      "metadata": {
        "colab": {
          "base_uri": "https://localhost:8080/"
        },
        "id": "hj1RF3ObwZW3",
        "outputId": "3da73343-cc0b-463d-ba28-9316454453f4"
      },
      "execution_count": 14,
      "outputs": [
        {
          "output_type": "stream",
          "name": "stdout",
          "text": [
            "285\n"
          ]
        }
      ]
    },
    {
      "cell_type": "markdown",
      "source": [
        "**Problem 7**: Write a recursive function that calculates the Fibonacci sequence for a given term."
      ],
      "metadata": {
        "id": "i1TbK8PGyNHB"
      }
    },
    {
      "cell_type": "code",
      "source": [
        "def fib(n):\n",
        "    if n == 0:\n",
        "        return 0\n",
        "    elif n == 1:\n",
        "        return 1\n",
        "    else:\n",
        "        return fib(n-1) + fib(n-2)\n",
        "\n",
        "# Example usage\n",
        "fib_number = fib(5)\n",
        "print(fib_number)"
      ],
      "metadata": {
        "colab": {
          "base_uri": "https://localhost:8080/"
        },
        "id": "JewLfbKOxMtg",
        "outputId": "c5ece3a5-c9f9-4cc4-91cc-647c29225992"
      },
      "execution_count": 17,
      "outputs": [
        {
          "output_type": "stream",
          "name": "stdout",
          "text": [
            "5\n"
          ]
        }
      ]
    },
    {
      "cell_type": "code",
      "source": [],
      "metadata": {
        "id": "M8jJcMB5ygcb"
      },
      "execution_count": null,
      "outputs": []
    }
  ]
}