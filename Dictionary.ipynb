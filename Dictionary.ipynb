{
  "nbformat": 4,
  "nbformat_minor": 0,
  "metadata": {
    "colab": {
      "provenance": [],
      "authorship_tag": "ABX9TyOwRERfBcoZBx7f+yExB1Q0",
      "include_colab_link": true
    },
    "kernelspec": {
      "name": "python3",
      "display_name": "Python 3"
    },
    "language_info": {
      "name": "python"
    }
  },
  "cells": [
    {
      "cell_type": "markdown",
      "metadata": {
        "id": "view-in-github",
        "colab_type": "text"
      },
      "source": [
        "<a href=\"https://colab.research.google.com/github/Navjotkarkhal/TR-102-/blob/main/Dictionary.ipynb\" target=\"_parent\"><img src=\"https://colab.research.google.com/assets/colab-badge.svg\" alt=\"Open In Colab\"/></a>"
      ]
    },
    {
      "cell_type": "markdown",
      "source": [
        "**Creating a Dictionary**"
      ],
      "metadata": {
        "id": "NrICUyaOOQcq"
      }
    },
    {
      "cell_type": "code",
      "execution_count": null,
      "metadata": {
        "colab": {
          "base_uri": "https://localhost:8080/"
        },
        "id": "7Q4XOGu4NViR",
        "outputId": "b0f6f628-54cf-4213-828c-77be9e62aca2"
      },
      "outputs": [
        {
          "output_type": "stream",
          "name": "stdout",
          "text": [
            "{'name': 'red', 'age': 10}\n",
            "red\n",
            "['red', 10]\n"
          ]
        }
      ],
      "source": [
        "dis={'name':'red','age':10}\n",
        "print(dis)\n",
        "print(dis['name'])\n",
        "print(list(dis.values()))\n"
      ]
    },
    {
      "cell_type": "markdown",
      "source": [
        "**Modify** Dictionary"
      ],
      "metadata": {
        "id": "an5b68rYOLuQ"
      }
    },
    {
      "cell_type": "code",
      "source": [
        "d = dict([('Name', 'Diksha'),('Age', '21')])\n",
        "d\n",
        "d['H.No'] = 42\n",
        "d['new_list'] = [1,2,3]\n",
        "d['new_dict'] = {'nested_dict':1}\n",
        "d['ph.No'] = 123454\n",
        "print(d)"
      ],
      "metadata": {
        "colab": {
          "base_uri": "https://localhost:8080/"
        },
        "id": "Lom9nyq6NXR7",
        "outputId": "062566e2-1651-4aff-bf1f-235d94b351c2"
      },
      "execution_count": null,
      "outputs": [
        {
          "output_type": "stream",
          "name": "stdout",
          "text": [
            "{'Name': 'Diksha', 'Age': '21', 'H.No': 42, 'new_list': [1, 2, 3], 'new_dict': {'nested_dict': 1}, 'ph.No': 123454}\n"
          ]
        }
      ]
    },
    {
      "cell_type": "code",
      "source": [
        "#clear method\n",
        "\n",
        "my_dict = {'1':'Navjot Kaur','2':'Akash','3':'Jyoti'}\n",
        "my_dict.clear()\n",
        "print(my_dict)\n"
      ],
      "metadata": {
        "id": "Ie40sNW9OZBn",
        "colab": {
          "base_uri": "https://localhost:8080/"
        },
        "outputId": "403164cd-cedd-4bc3-b6b9-5711dec57547"
      },
      "execution_count": null,
      "outputs": [
        {
          "output_type": "stream",
          "name": "stdout",
          "text": [
            "{}\n"
          ]
        }
      ]
    },
    {
      "cell_type": "code",
      "source": [
        "#get method\n",
        "my_dict = {'1':'Navjot Kaur','2':'Akash','3':'Jyoti'}\n",
        "print(my_dict.get('1'))\n",
        "print(my_dict.get('2'))\n",
        "print(my_dict.get('3'))"
      ],
      "metadata": {
        "colab": {
          "base_uri": "https://localhost:8080/"
        },
        "id": "F2T3JQNmZO5w",
        "outputId": "b1edaa59-2179-42f1-b98c-b61ed1200e88"
      },
      "execution_count": null,
      "outputs": [
        {
          "output_type": "stream",
          "name": "stdout",
          "text": [
            "Navjot Kaur\n",
            "Akash\n",
            "Jyoti\n"
          ]
        }
      ]
    },
    {
      "cell_type": "code",
      "source": [
        "my_dict = {'1':'Navjot Kaur','2':'Akash','3':'Jyoti'}\n",
        "print((my_dict.items()))\n",
        "print(list(my_dict.items())[1][1])\n"
      ],
      "metadata": {
        "colab": {
          "base_uri": "https://localhost:8080/"
        },
        "id": "cvPePZKFZn2C",
        "outputId": "b88081f0-b700-4fc0-a344-47375e051149"
      },
      "execution_count": null,
      "outputs": [
        {
          "output_type": "stream",
          "name": "stdout",
          "text": [
            "dict_items([('1', 'Navjot Kaur'), ('2', 'Akash'), ('3', 'Jyoti')])\n",
            "Akash\n"
          ]
        }
      ]
    },
    {
      "cell_type": "code",
      "source": [
        "my_dict = {'1':'Navjot Kaur','2':'Akash','3':'Jyoti'}\n",
        "print(my_dict.keys())\n"
      ],
      "metadata": {
        "colab": {
          "base_uri": "https://localhost:8080/"
        },
        "id": "Kcn7i2oxasfG",
        "outputId": "b60e05a8-e49c-4cde-ed64-f1f5e27a7ed9"
      },
      "execution_count": null,
      "outputs": [
        {
          "output_type": "stream",
          "name": "stdout",
          "text": [
            "dict_keys(['1', '2', '3'])\n"
          ]
        }
      ]
    },
    {
      "cell_type": "code",
      "source": [
        "my_dict = {'1':'Navjot Kaur','2':'Akash','3':'Jyoti'}\n",
        "print(my_dict.values())"
      ],
      "metadata": {
        "colab": {
          "base_uri": "https://localhost:8080/"
        },
        "id": "gMVS8L6xcXKp",
        "outputId": "7a4caa8e-ce36-4eee-f277-9c3bcbea5dbb"
      },
      "execution_count": 1,
      "outputs": [
        {
          "output_type": "stream",
          "name": "stdout",
          "text": [
            "dict_values(['Navjot Kaur', 'Akash', 'Jyoti'])\n"
          ]
        }
      ]
    },
    {
      "cell_type": "code",
      "source": [
        "d1 = {'Name': 'Ram', 'Age': '19', 'Country': 'India'}\n",
        "d2 = {'Name': 'Neha', 'Age': '22'}\n",
        "d1.update(d2)\n",
        "print(d1)\n"
      ],
      "metadata": {
        "colab": {
          "base_uri": "https://localhost:8080/"
        },
        "id": "UeLzMvIKdsg5",
        "outputId": "5df19224-33eb-4897-ccd8-d6319cb60ab8"
      },
      "execution_count": 2,
      "outputs": [
        {
          "output_type": "stream",
          "name": "stdout",
          "text": [
            "{'Name': 'Neha', 'Age': '22', 'Country': 'India'}\n"
          ]
        }
      ]
    },
    {
      "cell_type": "code",
      "source": [
        "d = {'Name': 'Ram', 'Age': '19', 'Country': 'India'}\n",
        "d.pop('Age')\n",
        "print(d)"
      ],
      "metadata": {
        "colab": {
          "base_uri": "https://localhost:8080/"
        },
        "id": "HudhnrYbd18y",
        "outputId": "1f525f11-73e7-41a4-d495-3d929b34b99c"
      },
      "execution_count": 3,
      "outputs": [
        {
          "output_type": "stream",
          "name": "stdout",
          "text": [
            "{'Name': 'Ram', 'Country': 'India'}\n"
          ]
        }
      ]
    },
    {
      "cell_type": "code",
      "source": [
        "d = {'Name': 'Ram', 'Age': '19', 'Country': 'India', 'Gender':'Male'}\n",
        "d.popitem()\n",
        "print(d)\n"
      ],
      "metadata": {
        "colab": {
          "base_uri": "https://localhost:8080/"
        },
        "id": "jfY1xZU0d9xG",
        "outputId": "4a10afe7-95d0-45ec-f8ff-8dc37221fd50"
      },
      "execution_count": 4,
      "outputs": [
        {
          "output_type": "stream",
          "name": "stdout",
          "text": [
            "{'Name': 'Ram', 'Age': '19', 'Country': 'India'}\n"
          ]
        }
      ]
    },
    {
      "cell_type": "markdown",
      "source": [
        "**Practice Questions on Dictionary**"
      ],
      "metadata": {
        "id": "e0-DDe7Fp6dK"
      }
    },
    {
      "cell_type": "markdown",
      "source": [
        "Problem 1 : a) Create a dictionary named student with keys \"name,\" \"age,\" and \"grade,\" and assign\n",
        "appropriate values.\n",
        "b) Update the \"grade\" to a new value.\n",
        "c) Add a new key-value pair for \"subject\" and its corresponding value."
      ],
      "metadata": {
        "id": "_KZN4e9IqGFc"
      }
    },
    {
      "cell_type": "code",
      "source": [
        "Student = {'name':'navjot','age':19,'grade':'A'}\n",
        "Student1 = {'grade':'A+'}\n",
        "Student.update(Student1)\n",
        "print(Student)\n",
        "Student['Subject'] = 'math'\n",
        "print(Student)\n"
      ],
      "metadata": {
        "colab": {
          "base_uri": "https://localhost:8080/"
        },
        "id": "KNdmYqlQqBOg",
        "outputId": "c7146248-34a5-42d7-e103-5e5142554e87"
      },
      "execution_count": 10,
      "outputs": [
        {
          "output_type": "stream",
          "name": "stdout",
          "text": [
            "{'name': 'navjot', 'age': 19, 'grade': 'A+'}\n",
            "{'name': 'navjot', 'age': 19, 'grade': 'A+', 'Subject': 'math'}\n"
          ]
        }
      ]
    },
    {
      "cell_type": "markdown",
      "source": [
        "List Slicing"
      ],
      "metadata": {
        "id": "EcMxeaL2VSoN"
      }
    },
    {
      "cell_type": "markdown",
      "source": [
        "**Dictionary Manipulation:**\n",
        "Create two dictionaries, dict1 and dict2 , with at least three key-value pairs each.\n",
        "\n",
        "Merge these dictionaries into a new dictionary called merged_dict .\n",
        "\n",
        "Remove a key from merged_dict .\n",
        "\n",
        "Check if a specific key exists in dict1 ."
      ],
      "metadata": {
        "id": "qcif9d82rh__"
      }
    },
    {
      "cell_type": "code",
      "source": [
        "dict1 = {'1': 'apple', '2': 'banana', '3': 'cherry'}\n",
        "dict2 = {'4': 'apple', '5': 'banana', '6': 'cherry'}\n",
        "\n",
        "# Merge dict1 and dict2\n",
        "merged_dict = {**dict1, **dict2}\n",
        "\n",
        "# Remove the key '5'\n",
        "merged_dict.pop('5')\n",
        "\n",
        "# Print the resulting dictionary\n",
        "print(merged_dict)\n",
        "\n",
        "\n"
      ],
      "metadata": {
        "colab": {
          "base_uri": "https://localhost:8080/"
        },
        "id": "TJ7HEG5Dr1TM",
        "outputId": "d7b991d7-1dc3-4643-8c4f-6d9d98b733b8"
      },
      "execution_count": 14,
      "outputs": [
        {
          "output_type": "stream",
          "name": "stdout",
          "text": [
            "{'1': 'apple', '2': 'banana', '3': 'cherry', '4': 'apple', '6': 'cherry'}\n"
          ]
        }
      ]
    },
    {
      "cell_type": "markdown",
      "source": [],
      "metadata": {
        "id": "Ru0pyA51W2sp"
      }
    },
    {
      "cell_type": "code",
      "source": [],
      "metadata": {
        "id": "hMX9LsLIuD7P"
      },
      "execution_count": null,
      "outputs": []
    },
    {
      "cell_type": "markdown",
      "source": [],
      "metadata": {
        "id": "QNdHJAZ4XAIt"
      }
    },
    {
      "cell_type": "code",
      "source": [],
      "metadata": {
        "id": "p3dlchgLYWPw"
      },
      "execution_count": null,
      "outputs": []
    }
  ]
}