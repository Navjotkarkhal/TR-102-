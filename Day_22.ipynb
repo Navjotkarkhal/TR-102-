{
  "nbformat": 4,
  "nbformat_minor": 0,
  "metadata": {
    "colab": {
      "provenance": [],
      "authorship_tag": "ABX9TyORFL8mIXMDGNXTJ129Vn7E",
      "include_colab_link": true
    },
    "kernelspec": {
      "name": "python3",
      "display_name": "Python 3"
    },
    "language_info": {
      "name": "python"
    }
  },
  "cells": [
    {
      "cell_type": "markdown",
      "metadata": {
        "id": "view-in-github",
        "colab_type": "text"
      },
      "source": [
        "<a href=\"https://colab.research.google.com/github/Navjotkarkhal/TR-102-/blob/main/Day_22.ipynb\" target=\"_parent\"><img src=\"https://colab.research.google.com/assets/colab-badge.svg\" alt=\"Open In Colab\"/></a>"
      ]
    },
    {
      "cell_type": "markdown",
      "source": [
        "The word **\"polymorphism**\" means \"many forms\", and in programming it refers to\n",
        " methods/functions/operators with the same name that can be executed on many objects or classes."
      ],
      "metadata": {
        "id": "Rud-V6H7fxS7"
      }
    },
    {
      "cell_type": "markdown",
      "source": [
        "**Method Overriding**"
      ],
      "metadata": {
        "id": "wV9-Wh8Ef6bI"
      }
    },
    {
      "cell_type": "code",
      "execution_count": 1,
      "metadata": {
        "colab": {
          "base_uri": "https://localhost:8080/"
        },
        "id": "eBsRiJNwfn_W",
        "outputId": "c8484146-a92a-441a-ae9e-81fad42d2f42"
      },
      "outputs": [
        {
          "output_type": "stream",
          "name": "stdout",
          "text": [
            "Woof!\n",
            "Meow!\n"
          ]
        }
      ],
      "source": [
        "class Animal:\n",
        "    def sound(self):\n",
        "        pass\n",
        "\n",
        "class Dog(Animal):\n",
        "    def sound(self):\n",
        "        return \"Woof!\"\n",
        "\n",
        "class Cat(Animal):\n",
        "    def sound(self):\n",
        "        return \"Meow!\"\n",
        "\n",
        "def make_sound(animal):\n",
        "    return animal.sound()\n",
        "\n",
        "dog = Dog()\n",
        "cat = Cat()\n",
        "\n",
        "print(make_sound(dog))  # Output: Woof!\n",
        "print(make_sound(cat))  # Output: Meow!\n"
      ]
    },
    {
      "cell_type": "code",
      "source": [
        "class Calculator:\n",
        "    def add(self, a, b=0, c=0):\n",
        "        return a + b + c\n",
        "\n",
        "# Creating an instance of the Calculator class\n",
        "calc = Calculator()\n",
        "\n",
        "# Using the add method with different parameter lists\n",
        "result1 = calc.add(1)\n",
        "result2 = calc.add(1, 2)\n",
        "result3 = calc.add(1, 2, 3)\n",
        "\n",
        "print(result1)  # Output: 1\n",
        "print(result2)  # Output: 3\n",
        "print(result3)  # Output: 6\n",
        "\n",
        "print(f\"for first {result1},for second {result2},for third {result3}\")"
      ],
      "metadata": {
        "colab": {
          "base_uri": "https://localhost:8080/"
        },
        "id": "eCJ9oyi9gFFr",
        "outputId": "030b6edc-7afd-41c6-adb9-49b08368cd0b"
      },
      "execution_count": 2,
      "outputs": [
        {
          "output_type": "stream",
          "name": "stdout",
          "text": [
            "1\n",
            "3\n",
            "6\n",
            "for first 1,for second 3,for third 6\n"
          ]
        }
      ]
    },
    {
      "cell_type": "code",
      "source": [],
      "metadata": {
        "id": "0jBylwflgPLI"
      },
      "execution_count": null,
      "outputs": []
    }
  ]
}