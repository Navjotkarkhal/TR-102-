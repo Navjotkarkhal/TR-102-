{
  "nbformat": 4,
  "nbformat_minor": 0,
  "metadata": {
    "colab": {
      "provenance": [],
      "authorship_tag": "ABX9TyN3WlAFODm6VwX4uGqe7H25",
      "include_colab_link": true
    },
    "kernelspec": {
      "name": "python3",
      "display_name": "Python 3"
    },
    "language_info": {
      "name": "python"
    }
  },
  "cells": [
    {
      "cell_type": "markdown",
      "metadata": {
        "id": "view-in-github",
        "colab_type": "text"
      },
      "source": [
        "<a href=\"https://colab.research.google.com/github/Navjotkarkhal/TR-102-/blob/main/Day_12_.ipynb\" target=\"_parent\"><img src=\"https://colab.research.google.com/assets/colab-badge.svg\" alt=\"Open In Colab\"/></a>"
      ]
    },
    {
      "cell_type": "markdown",
      "source": [
        "**Inheritance in Python**"
      ],
      "metadata": {
        "id": "nnxL-Hol8r2i"
      }
    },
    {
      "cell_type": "markdown",
      "source": [
        "**Single Inheritance**"
      ],
      "metadata": {
        "id": "g7F1BdBw887B"
      }
    },
    {
      "cell_type": "code",
      "source": [
        "class Animal:                  #Animal Class is base class\n",
        "  def speak(self):\n",
        "    return \"Geniric Animal Sound\"\n",
        "class Dog(Animal):\n",
        "  def bark(self):\n",
        "    return \"Woof\"                         #Dog class inherits animal class Derived Class\n",
        "\n",
        "dog = Dog()\n",
        "print(dog.speak())\n",
        "print(dog.bark())\n",
        "\n",
        "\n",
        ""
      ],
      "metadata": {
        "colab": {
          "base_uri": "https://localhost:8080/"
        },
        "id": "c9o0NwoN8x1L",
        "outputId": "d40481de-7920-4adf-fe80-5610524f98b4"
      },
      "execution_count": 1,
      "outputs": [
        {
          "output_type": "stream",
          "name": "stdout",
          "text": [
            "Geniric Animal Sound\n",
            "Woof\n"
          ]
        }
      ]
    },
    {
      "cell_type": "markdown",
      "source": [
        "**Multiple Inheritance**"
      ],
      "metadata": {
        "id": "TIwpErcr9_BU"
      }
    },
    {
      "cell_type": "code",
      "source": [
        "class Swimmer:\n",
        "  def swim(self):\n",
        "    return \"swimming kr rahe hai\"\n",
        "\n",
        "class flyer:\n",
        "  def fly(self):\n",
        "    return\"We are flying\"\n",
        "\n",
        "class duck(Swimmer,flyer):\n",
        "  def quack(self):\n",
        "    return \"Quack\"\n",
        "\n",
        "D = duck()\n",
        "print(D.swim())\n",
        "print(D.fly())\n",
        "print(D.quack())\n"
      ],
      "metadata": {
        "colab": {
          "base_uri": "https://localhost:8080/"
        },
        "id": "pVhW_nVt9zFc",
        "outputId": "4b4676d3-f0d6-4fdb-d079-03c897c00a4d"
      },
      "execution_count": 2,
      "outputs": [
        {
          "output_type": "stream",
          "name": "stdout",
          "text": [
            "swimming kr rahe hai\n",
            "We are flying\n",
            "Quack\n"
          ]
        }
      ]
    },
    {
      "cell_type": "markdown",
      "source": [
        "**Multilevel Inheritance**"
      ],
      "metadata": {
        "id": "rpf9_uda-rX8"
      }
    },
    {
      "cell_type": "code",
      "source": [
        "class vehicle:                        # Base class\n",
        "  def start(self):\n",
        "    return \"Start vehicle\"\n",
        "\n",
        "class car(vehicle):                    # Derived Class Base class for electricalcar class\n",
        "  def derive(self):\n",
        "    return \"car is starting\"\n",
        "\n",
        "class electricalcar(car):                   # Derived from car class indirectly by vehicle\n",
        "  def charge(self):\n",
        "    return \"e car is starting\"\n",
        "\n",
        "e = electricalcar()\n",
        "print(e.start())\n",
        "print(e.derive())\n",
        "print(e.charge())\n"
      ],
      "metadata": {
        "colab": {
          "base_uri": "https://localhost:8080/"
        },
        "id": "a1pByvVS-pJl",
        "outputId": "2aaa35c0-4182-40df-d8f7-dbacd12771b7"
      },
      "execution_count": 5,
      "outputs": [
        {
          "output_type": "stream",
          "name": "stdout",
          "text": [
            "Start vehicle\n",
            "car is starting\n",
            "e car is starting\n"
          ]
        }
      ]
    },
    {
      "cell_type": "markdown",
      "source": [
        "**Heirarichal Inheritance**"
      ],
      "metadata": {
        "id": "oTF5BwgU_0wY"
      }
    },
    {
      "cell_type": "code",
      "source": [
        "class shape:\n",
        "  def area(self):\n",
        "    return \"cal area\"\n",
        "\n",
        "class circle(shape):\n",
        "  def cal_area(self,r):\n",
        "    return 3.14*r*r\n",
        "\n",
        "class square(shape):\n",
        "  def sq_area(self,s):\n",
        "    return s*s\n",
        "\n",
        "c = circle()           # creation of object\n",
        "s1 = square()\n",
        "print(s1.area())\n",
        "print(c.cal_area(r=2))\n",
        "print(s1.area())\n",
        "print(s1.sq_area(s =4))\n",
        "\n",
        ""
      ],
      "metadata": {
        "colab": {
          "base_uri": "https://localhost:8080/"
        },
        "id": "XM_0-vdV_ZBj",
        "outputId": "245981b3-85f5-4f42-eceb-4d685a9885fc"
      },
      "execution_count": 7,
      "outputs": [
        {
          "output_type": "stream",
          "name": "stdout",
          "text": [
            "cal area\n",
            "12.56\n",
            "cal area\n",
            "16\n"
          ]
        }
      ]
    },
    {
      "cell_type": "markdown",
      "source": [
        "**Hybrid Inheritance**"
      ],
      "metadata": {
        "id": "T4hVJo7DCv8t"
      }
    },
    {
      "cell_type": "code",
      "source": [
        "class A:\n",
        "  def method_A(self):\n",
        "    return \"method_A\"\n",
        "\n",
        "class B(A):\n",
        "  def method_B(self):\n",
        "    return \"method_B\"\n",
        "\n",
        "class C(A):\n",
        "  def method_C(self):\n",
        "    return \"method_C\"\n",
        "\n",
        "class D(B,C):\n",
        "  def method_D(self):\n",
        "    return \"method_D\"\n",
        "\n",
        "\n",
        "obj = D()\n",
        "print(obj.method_A())\n",
        "print(obj.method_B())\n",
        "print(obj.method_C())\n",
        "print(obj.method_D())\n",
        "\n",
        "\n",
        "\n",
        "\n"
      ],
      "metadata": {
        "colab": {
          "base_uri": "https://localhost:8080/"
        },
        "id": "3sRIH4iaA89o",
        "outputId": "73966dc6-b4f5-4a38-a58c-de02dc877c23"
      },
      "execution_count": 9,
      "outputs": [
        {
          "output_type": "stream",
          "name": "stdout",
          "text": [
            "method_A\n",
            "method_B\n",
            "method_C\n",
            "method_D\n"
          ]
        }
      ]
    },
    {
      "cell_type": "markdown",
      "source": [
        "Q1. Complete the code by creating an empty class B that inherits the given class."
      ],
      "metadata": {
        "id": "nynHUOu3Ez_j"
      }
    },
    {
      "cell_type": "code",
      "source": [
        "class B:\n",
        "\n",
        "\n",
        "  def hello(self):\n",
        "    return \"Hello\"\n",
        "\n",
        "class C(B):                                 #child Class\n",
        "  def world(self):\n",
        "    return \"World\"\n",
        "\n",
        "\n",
        "class D(C):           # GrandChild Class\n",
        "  def  display(self):\n",
        "    return \"Hello World\"\n",
        "\n",
        "obj = D()\n",
        "print(obj.display())\n",
        "\n",
        "\n",
        "\n",
        "\n",
        "\n",
        "\n",
        "\n",
        "\n",
        "\n",
        "\n",
        "\n",
        "\n"
      ],
      "metadata": {
        "colab": {
          "base_uri": "https://localhost:8080/"
        },
        "id": "0IrCxOkPEDpQ",
        "outputId": "448f1e4c-a3e3-4b97-f1cf-7461e4fca532"
      },
      "execution_count": 12,
      "outputs": [
        {
          "output_type": "stream",
          "name": "stdout",
          "text": [
            "Hello World\n"
          ]
        }
      ]
    },
    {
      "cell_type": "code",
      "source": [],
      "metadata": {
        "id": "ix4qE0R2Se5i"
      },
      "execution_count": null,
      "outputs": []
    }
  ]
}
