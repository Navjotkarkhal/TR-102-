{
  "nbformat": 4,
  "nbformat_minor": 0,
  "metadata": {
    "colab": {
      "provenance": [],
      "authorship_tag": "ABX9TyMPmey0YUg4RJNG6yqbvjNr",
      "include_colab_link": true
    },
    "kernelspec": {
      "name": "python3",
      "display_name": "Python 3"
    },
    "language_info": {
      "name": "python"
    }
  },
  "cells": [
    {
      "cell_type": "markdown",
      "metadata": {
        "id": "view-in-github",
        "colab_type": "text"
      },
      "source": [
        "<a href=\"https://colab.research.google.com/github/Navjotkarkhal/TR-102-/blob/main/Conditional_Statements_.ipynb\" target=\"_parent\"><img src=\"https://colab.research.google.com/assets/colab-badge.svg\" alt=\"Open In Colab\"/></a>"
      ]
    },
    {
      "cell_type": "markdown",
      "source": [
        "**Conditional Statements**"
      ],
      "metadata": {
        "id": "rWhXf_rjDmuM"
      }
    },
    {
      "cell_type": "code",
      "execution_count": null,
      "metadata": {
        "colab": {
          "base_uri": "https://localhost:8080/"
        },
        "id": "z90URDlMCtJ3",
        "outputId": "59d64d51-eace-4145-d566-a6f1376a3b45"
      },
      "outputs": [
        {
          "output_type": "stream",
          "name": "stdout",
          "text": [
            "Enter your name: navjot\n",
            "Hi,  navjot\n"
          ]
        }
      ],
      "source": [
        "#input Functions in Python\n",
        "name = input(\"Enter your name: \")\n",
        "print(\"Hi, \",name)"
      ]
    },
    {
      "cell_type": "code",
      "source": [
        "#program for combining two numbers\n",
        "a = (input(\"enter 1st number\"))\n",
        "b = (input(\"enter 2nd number\"))\n",
        "print(a+b)"
      ],
      "metadata": {
        "colab": {
          "base_uri": "https://localhost:8080/"
        },
        "id": "NFwHT_WGD4YS",
        "outputId": "f2863887-3f05-4f15-a012-4414fa1be095"
      },
      "execution_count": null,
      "outputs": [
        {
          "output_type": "stream",
          "name": "stdout",
          "text": [
            "enter 1st number12\n",
            "enter 2nd number23\n",
            "1223\n"
          ]
        }
      ]
    },
    {
      "cell_type": "code",
      "source": [
        "#program for adding two numbers\n",
        "a = int(input(\"enter 1st number\"))\n",
        "b = int(input(\"enter 2nd number\"))\n",
        "print(a+b)\n"
      ],
      "metadata": {
        "colab": {
          "base_uri": "https://localhost:8080/"
        },
        "id": "YBJiBf_JEQXP",
        "outputId": "674be7fa-1f24-4a38-9320-4929faa330a1"
      },
      "execution_count": null,
      "outputs": [
        {
          "output_type": "stream",
          "name": "stdout",
          "text": [
            "enter 1st number12\n",
            "enter 2nd number24\n",
            "36\n"
          ]
        }
      ]
    },
    {
      "cell_type": "markdown",
      "source": [
        "**IF Statement**"
      ],
      "metadata": {
        "id": "IdSMQr8IEl0A"
      }
    },
    {
      "cell_type": "code",
      "source": [
        "n1 = int(input(\"enter number: \"))\n",
        "if n1%2 == 0:\n",
        "  print(\"you have entered a even number\")\n",
        "print(\"please enter a even number\")"
      ],
      "metadata": {
        "colab": {
          "base_uri": "https://localhost:8080/"
        },
        "id": "6DTxk0tKEa5F",
        "outputId": "34bb0452-47ec-43f1-e7ee-44dc7903fc00"
      },
      "execution_count": null,
      "outputs": [
        {
          "output_type": "stream",
          "name": "stdout",
          "text": [
            "enter number: 4\n",
            "you have entered a even number\n",
            "please enter a even number\n"
          ]
        }
      ]
    },
    {
      "cell_type": "markdown",
      "source": [
        "**IF-ELSE Statement**"
      ],
      "metadata": {
        "id": "S9lFBJr9FQED"
      }
    },
    {
      "cell_type": "code",
      "source": [
        "a = int(input(\"Enter a positive number:\"))\n",
        "if a>0:\n",
        "  print(\"Well done!\")\n",
        "else:\n",
        "    print(\"Try again.\")"
      ],
      "metadata": {
        "colab": {
          "base_uri": "https://localhost:8080/"
        },
        "id": "Sw5muSdaE4_D",
        "outputId": "303a8fde-6bab-4b3f-fa9b-274cf7e7495d"
      },
      "execution_count": null,
      "outputs": [
        {
          "output_type": "stream",
          "name": "stdout",
          "text": [
            "Enter a positive number:8\n",
            "Well done!\n"
          ]
        }
      ]
    },
    {
      "cell_type": "markdown",
      "source": [
        "**nested if-statement**"
      ],
      "metadata": {
        "id": "ndRerqhRFjTv"
      }
    },
    {
      "cell_type": "code",
      "source": [
        "gpa = int(input(\"enter your gpa\"))\n",
        "if gpa>7.5:\n",
        "  print(\"congractulations!, you are eligible\")\n",
        "  b=int(input(\"enter pending backlogs\"))\n",
        "if b == 0:\n",
        "  print(\"Well Done, Go ahead\")\n",
        "  mat = int(input(\"enter your matriculation percentage\"))\n",
        "if mat>75:\n",
        "  print(\"just one step more\")\n",
        "  sec =int(input(\"enter your 12th percentage\"))\n",
        "if sec>60:\n",
        "  print(\"congractulations!, you are in\")\n",
        "print(\"better luck next time\")\n"
      ],
      "metadata": {
        "colab": {
          "base_uri": "https://localhost:8080/"
        },
        "id": "CoaZKtO5Fcab",
        "outputId": "1a766c9b-9b50-48c7-9e13-538b8e5852a3"
      },
      "execution_count": null,
      "outputs": [
        {
          "output_type": "stream",
          "name": "stdout",
          "text": [
            "enter your gpa6\n",
            "Well Done, Go ahead\n",
            "enter your matriculation percentage1\n",
            "congractulations!, you are in\n",
            "better luck next time\n"
          ]
        }
      ]
    },
    {
      "cell_type": "code",
      "source": [
        "n = int(input(\"Your marks:\"))\n",
        "if n>80 and n<90:\n",
        "  print(\"Grade A\")\n",
        "elif n>70 and n<80:\n",
        "  print(\"Grade B\")\n",
        "elif n>60 and n<70:\n",
        "  print(\"Grade C\")\n",
        "elif n>50 and n<60:\n",
        "  print(\"Grade D\")\n",
        "else:\n",
        "  print(\"Sorry, you are not qualified.\")"
      ],
      "metadata": {
        "colab": {
          "base_uri": "https://localhost:8080/"
        },
        "id": "qbWDIqb0G0QW",
        "outputId": "e990383f-9ee7-445d-df50-22f68a761d26"
      },
      "execution_count": null,
      "outputs": [
        {
          "output_type": "stream",
          "name": "stdout",
          "text": [
            "Your marks:85\n",
            "Grade A\n"
          ]
        }
      ]
    },
    {
      "cell_type": "markdown",
      "source": [
        "**Problem1 :** Write a Python program to check if a given number is positive, negative, or zero"
      ],
      "metadata": {
        "id": "hC6GxdCvHnfF"
      }
    },
    {
      "cell_type": "code",
      "source": [
        "n1 = int(input(\"enter a number: \"))\n",
        "if n1>0 :\n",
        "  print(\"number is positive\")\n",
        "elif n1 == 0:\n",
        "  print(\"number is zero\")\n",
        "else:\n",
        "  print(\"number is negative\")"
      ],
      "metadata": {
        "colab": {
          "base_uri": "https://localhost:8080/"
        },
        "id": "V-547jhpHXA2",
        "outputId": "e414eaa5-32f5-483f-c3f1-ba84afaf54e5"
      },
      "execution_count": null,
      "outputs": [
        {
          "output_type": "stream",
          "name": "stdout",
          "text": [
            "enter a number: -1\n",
            "number is negative\n"
          ]
        }
      ]
    },
    {
      "cell_type": "markdown",
      "source": [
        "**Problem 2 :**Create a program that determines whether a given year is a leap year."
      ],
      "metadata": {
        "id": "WQ9KulmtIM1H"
      }
    },
    {
      "cell_type": "code",
      "source": [
        "year = int(input(\"enter year: \"))\n",
        "if year%4 == 0:\n",
        "  print('year is leap')\n",
        "else:\n",
        "  print(\"year is not leap\")"
      ],
      "metadata": {
        "colab": {
          "base_uri": "https://localhost:8080/"
        },
        "id": "Wb7VyrLxID3B",
        "outputId": "e8e6f5c9-6a22-4119-88ae-6d91b23ad9a1"
      },
      "execution_count": null,
      "outputs": [
        {
          "output_type": "stream",
          "name": "stdout",
          "text": [
            "enter year: 2036\n",
            "year is leap\n"
          ]
        }
      ]
    },
    {
      "cell_type": "markdown",
      "source": [
        "**Problem 3 :**Write a function that takes three numbers as input and returns the maximum of the three"
      ],
      "metadata": {
        "id": "0_mzHtI8I325"
      }
    },
    {
      "cell_type": "code",
      "source": [
        "a = int(input(\"enter a number: \"))\n",
        "b = int(input(\"enter b number:\"))\n",
        "c = int(input(\"enter c number: \"))\n",
        "if a>c and a>b:\n",
        "  print(\"a is greatest number\")\n",
        "if b>c and b>a:\n",
        "  print(\"b is greatest number\")\n",
        "else:\n",
        "  print(\"c is greatest number\")"
      ],
      "metadata": {
        "colab": {
          "base_uri": "https://localhost:8080/"
        },
        "id": "vJBarsZRIkvS",
        "outputId": "0bb1a1d7-d34b-4078-877c-fcd88b5bdeea"
      },
      "execution_count": null,
      "outputs": [
        {
          "output_type": "stream",
          "name": "stdout",
          "text": [
            "enter a number: 23\n",
            "enter b number:45\n",
            "enter c number: 89\n",
            "c is greatest number\n"
          ]
        }
      ]
    },
    {
      "cell_type": "markdown",
      "source": [
        "**Problem 4 :**Create a Python script that asks the user for their age and prints whether they are a minor, adult, or senior citizen."
      ],
      "metadata": {
        "id": "wEXD_zAWJsDa"
      }
    },
    {
      "cell_type": "code",
      "source": [
        "age = int(input(\"enter your age\"))\n",
        "if age<13:\n",
        "  print(\"child\")\n",
        "elif age<20:\n",
        "  print(\"Teenager\")\n",
        "elif age<65:\n",
        "  print(\"Adult\")\n",
        "else:\n",
        "  print(\"senior\")\n"
      ],
      "metadata": {
        "colab": {
          "base_uri": "https://localhost:8080/"
        },
        "id": "ujtMCEm2Jak7",
        "outputId": "95f1a280-aec2-4538-b5e4-782cb36c91d9"
      },
      "execution_count": null,
      "outputs": [
        {
          "output_type": "stream",
          "name": "stdout",
          "text": [
            "enter your age19\n",
            "Teenager\n"
          ]
        }
      ]
    },
    {
      "cell_type": "markdown",
      "source": [
        "Given a variable temperature, write a conditional statement to check if temperature is below 0. If true, print \"It's freezing\", otherwise print \"It's not freezing\"."
      ],
      "metadata": {
        "id": "3nZm-LNeNOG2"
      }
    },
    {
      "cell_type": "code",
      "source": [
        "temp = int(input(\"enter temperature\"))\n",
        "if temp<0:\n",
        "  print(\"its freezing\")\n",
        "\n",
        "else:\n",
        "  print(\"its not freezing\")"
      ],
      "metadata": {
        "colab": {
          "base_uri": "https://localhost:8080/"
        },
        "id": "hQXbf3kxKTjb",
        "outputId": "0a5044e8-2acc-4cc5-ef41-7eda527df76e"
      },
      "execution_count": null,
      "outputs": [
        {
          "output_type": "stream",
          "name": "stdout",
          "text": [
            "enter temperature-5\n",
            "its freezing\n"
          ]
        }
      ]
    },
    {
      "cell_type": "markdown",
      "source": [
        "You have a variable score. Write a conditional statement to check if score is greater than 90. If true, print \"Grade A\", if score is between 80 and 90, print \"Grade B\", otherwise print \"Grade C\"."
      ],
      "metadata": {
        "id": "FQVS_djoNoMP"
      }
    },
    {
      "cell_type": "code",
      "source": [
        "score = int(input(\"enter score: \"))\n",
        "if score>90:\n",
        "  print(\"Grade A\")\n",
        "if score>80 and score<90:\n",
        "  print(\"Grade B\")\n",
        "else:\n",
        "  print(\"Grade C\")"
      ],
      "metadata": {
        "colab": {
          "base_uri": "https://localhost:8080/"
        },
        "id": "8Y5EYgNBNis0",
        "outputId": "f0b56ed8-da98-4695-b01d-47a7ad50754c"
      },
      "execution_count": null,
      "outputs": [
        {
          "output_type": "stream",
          "name": "stdout",
          "text": [
            "enter score: 88\n",
            "Grade B\n"
          ]
        }
      ]
    },
    {
      "cell_type": "markdown",
      "source": [
        "Given two variables a and b, write a conditional statement to check if a is equal to b. If true, print \"a and b are equal\", otherwise print \"a and b are not equal\"."
      ],
      "metadata": {
        "id": "Ir-u2yFGODtV"
      }
    },
    {
      "cell_type": "code",
      "source": [
        "a = int(input(\"enter a \"))\n",
        "b =int(input(\"enter b \"))\n",
        "if a == b:\n",
        "  print(\"a is equal to b\")\n",
        "else:\n",
        "  print(\"a is not equal to b\")"
      ],
      "metadata": {
        "colab": {
          "base_uri": "https://localhost:8080/"
        },
        "id": "j7-HYbz-N8_7",
        "outputId": "7bcd5544-e3da-41bb-f139-5a5775849ae0"
      },
      "execution_count": null,
      "outputs": [
        {
          "output_type": "stream",
          "name": "stdout",
          "text": [
            "enter a 5\n",
            "enter b 6\n",
            "a is not equal to b\n"
          ]
        }
      ]
    },
    {
      "cell_type": "markdown",
      "source": [
        "You have a variable number. Write a conditional statement to check if number is even or odd. If even, print \"Even number\", otherwise print \"Odd number\"."
      ],
      "metadata": {
        "id": "8g1z-C2-OZd2"
      }
    },
    {
      "cell_type": "code",
      "source": [
        "num = int(input(\"enter number\"))\n",
        "if num %2 == 0:\n",
        "  print(\"number is even\")\n",
        "else:\n",
        "  print(\"number is odd\")"
      ],
      "metadata": {
        "colab": {
          "base_uri": "https://localhost:8080/"
        },
        "id": "NkctHudOOU7p",
        "outputId": "302c16ca-2d3e-4e4a-e49e-21d17d7ed644"
      },
      "execution_count": null,
      "outputs": [
        {
          "output_type": "stream",
          "name": "stdout",
          "text": [
            "enter number6\n",
            "number is even\n"
          ]
        }
      ]
    },
    {
      "cell_type": "markdown",
      "source": [
        "Given a variable day which can be any day of the week, write a conditional statement to print \"Weekend\" if the day is \"Saturday\" or \"Sunday\", otherwise print \"Weekday\"."
      ],
      "metadata": {
        "id": "rfphG5eDOp1A"
      }
    },
    {
      "cell_type": "code",
      "source": [
        "day = (input(\"enter day: \"))\n",
        "if day==\"saturday\" or day == \"sunday\":\n",
        "  print(\"Weekend\")\n",
        "else:\n",
        "  print(\"Weekday\")"
      ],
      "metadata": {
        "colab": {
          "base_uri": "https://localhost:8080/"
        },
        "id": "wadh2PTzOk4D",
        "outputId": "42b81a09-c43b-43fb-b7e5-9c4d3b2ab19c"
      },
      "execution_count": null,
      "outputs": [
        {
          "output_type": "stream",
          "name": "stdout",
          "text": [
            "enter day: monday\n",
            "Weekday\n"
          ]
        }
      ]
    },
    {
      "cell_type": "markdown",
      "source": [
        "You have a variable marks. Write a conditional statement to check if marks are greater than 75. If true, print \"Distinction\", if marks are between 50 and 75, print \"Pass\", otherwise print \"Fail\"."
      ],
      "metadata": {
        "id": "pwSfCTAVPNt_"
      }
    },
    {
      "cell_type": "code",
      "source": [
        "marks =int(input(\"enter marks\"))\n",
        "if marks>75:\n",
        "  print(\"Distinction\")\n",
        "if marks>50 and marks<75:\n",
        "  print(\"pass\")\n",
        "else:\n",
        "  print(\"fail\")"
      ],
      "metadata": {
        "colab": {
          "base_uri": "https://localhost:8080/"
        },
        "id": "whtBioRLPEkw",
        "outputId": "11dd30f6-b823-410d-93ee-5e4ef7e63a69"
      },
      "execution_count": null,
      "outputs": [
        {
          "output_type": "stream",
          "name": "stdout",
          "text": [
            "enter marks66\n",
            "pass\n"
          ]
        }
      ]
    },
    {
      "cell_type": "code",
      "source": [],
      "metadata": {
        "id": "dy_GZdOZP_jX"
      },
      "execution_count": null,
      "outputs": []
    }
  ]
}