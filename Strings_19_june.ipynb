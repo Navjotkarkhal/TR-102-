{
  "nbformat": 4,
  "nbformat_minor": 0,
  "metadata": {
    "colab": {
      "provenance": [],
      "authorship_tag": "ABX9TyOrw6DaYwsZU4hKiV9U6yfd",
      "include_colab_link": true
    },
    "kernelspec": {
      "name": "python3",
      "display_name": "Python 3"
    },
    "language_info": {
      "name": "python"
    }
  },
  "cells": [
    {
      "cell_type": "markdown",
      "metadata": {
        "id": "view-in-github",
        "colab_type": "text"
      },
      "source": [
        "<a href=\"https://colab.research.google.com/github/Navjotkarkhal/TR-102-/blob/main/Strings_19_june.ipynb\" target=\"_parent\"><img src=\"https://colab.research.google.com/assets/colab-badge.svg\" alt=\"Open In Colab\"/></a>"
      ]
    },
    {
      "cell_type": "markdown",
      "source": [
        "\n",
        "\n",
        "**Strings**"
      ],
      "metadata": {
        "id": "z2b2fwdB61u8"
      }
    },
    {
      "cell_type": "code",
      "execution_count": 2,
      "metadata": {
        "colab": {
          "base_uri": "https://localhost:8080/"
        },
        "id": "9phfdqr6zK3l",
        "outputId": "e381cdaa-5cdd-4d6f-ecc2-4571fd478033"
      },
      "outputs": [
        {
          "output_type": "stream",
          "name": "stdout",
          "text": [
            "136841832894704\n",
            "DIKSHA\n",
            "136841557049392\n"
          ]
        }
      ],
      "source": [
        "# creation of strings\n",
        "stu =\"diksha\"\n",
        "print(id(stu))\n",
        "stu1 = stu.upper()\n",
        "print(stu1)\n",
        "print(id(stu1))\n"
      ]
    },
    {
      "cell_type": "code",
      "source": [
        "# nested string\n",
        "a = \"hello world 'hello' \"\n",
        "print(a)"
      ],
      "metadata": {
        "colab": {
          "base_uri": "https://localhost:8080/"
        },
        "id": "UhehnxQw9FfW",
        "outputId": "76452ab2-2134-419e-cf7f-92e035811c90"
      },
      "execution_count": 3,
      "outputs": [
        {
          "output_type": "stream",
          "name": "stdout",
          "text": [
            "hello world 'hello' \n"
          ]
        }
      ]
    },
    {
      "cell_type": "code",
      "source": [
        "# String Slicing\n",
        "a = \"hello world\"\n",
        "print(a[2:5])"
      ],
      "metadata": {
        "colab": {
          "base_uri": "https://localhost:8080/"
        },
        "id": "TzzaFX7P9TMF",
        "outputId": "d20beb8c-b01d-4b26-e106-070715405295"
      },
      "execution_count": 5,
      "outputs": [
        {
          "output_type": "stream",
          "name": "stdout",
          "text": [
            "llo\n"
          ]
        }
      ]
    },
    {
      "cell_type": "code",
      "source": [
        "# lower method\n",
        "\n",
        "name = \"NAVJOT\"\n",
        "print(name)\n",
        "name1 = name.lower()\n",
        "print(name1)"
      ],
      "metadata": {
        "colab": {
          "base_uri": "https://localhost:8080/"
        },
        "id": "60DBARuF9cWz",
        "outputId": "d3dfa283-3fe3-4105-9b54-ad373b9c252a"
      },
      "execution_count": 6,
      "outputs": [
        {
          "output_type": "stream",
          "name": "stdout",
          "text": [
            "NAVJOT\n",
            "navjot\n"
          ]
        }
      ]
    },
    {
      "cell_type": "code",
      "source": [
        "# capitalize method\n",
        "\n",
        "school = \"dav school\"\n",
        "x = school.capitalize()\n",
        "x"
      ],
      "metadata": {
        "colab": {
          "base_uri": "https://localhost:8080/",
          "height": 36
        },
        "id": "qnTVhKtZ9vSv",
        "outputId": "121827ce-8020-450d-8d29-927b49066543"
      },
      "execution_count": 7,
      "outputs": [
        {
          "output_type": "execute_result",
          "data": {
            "text/plain": [
              "'Dav school'"
            ],
            "application/vnd.google.colaboratory.intrinsic+json": {
              "type": "string"
            }
          },
          "metadata": {},
          "execution_count": 7
        }
      ]
    },
    {
      "cell_type": "code",
      "source": [
        "# Title method\n",
        "school = \"dav school\"\n",
        "x = school.title()\n",
        "x"
      ],
      "metadata": {
        "colab": {
          "base_uri": "https://localhost:8080/",
          "height": 36
        },
        "id": "lucl5YcO9_h6",
        "outputId": "a83eec5d-3fb0-4c10-e302-f5a330bf0755"
      },
      "execution_count": 8,
      "outputs": [
        {
          "output_type": "execute_result",
          "data": {
            "text/plain": [
              "'Dav School'"
            ],
            "application/vnd.google.colaboratory.intrinsic+json": {
              "type": "string"
            }
          },
          "metadata": {},
          "execution_count": 8
        }
      ]
    },
    {
      "cell_type": "code",
      "source": [
        "# swapcase\n",
        "name = \"NaVjoT KauR\"\n",
        "y = name.swapcase()\n",
        "y"
      ],
      "metadata": {
        "colab": {
          "base_uri": "https://localhost:8080/",
          "height": 36
        },
        "id": "UsLWewhu-C79",
        "outputId": "a5befbe8-fb89-4c4e-a8a3-b4883b09abc5"
      },
      "execution_count": 9,
      "outputs": [
        {
          "output_type": "execute_result",
          "data": {
            "text/plain": [
              "'nAvJOt kAUr'"
            ],
            "application/vnd.google.colaboratory.intrinsic+json": {
              "type": "string"
            }
          },
          "metadata": {},
          "execution_count": 9
        }
      ]
    },
    {
      "cell_type": "code",
      "source": [
        "# endswith method\n",
        "name = \"Navjot Kaur \"\n",
        "name.endswith(' ')"
      ],
      "metadata": {
        "colab": {
          "base_uri": "https://localhost:8080/"
        },
        "id": "Dr2CllxW-gBU",
        "outputId": "c5bf5712-a705-4bc1-9a84-08060b53dbfc"
      },
      "execution_count": 10,
      "outputs": [
        {
          "output_type": "execute_result",
          "data": {
            "text/plain": [
              "True"
            ]
          },
          "metadata": {},
          "execution_count": 10
        }
      ]
    },
    {
      "cell_type": "code",
      "source": [
        "name = \"navjot\"\n",
        "print(len(name))\n",
        "y = name.center(15)\n",
        "print(len(y))\n",
        "y"
      ],
      "metadata": {
        "colab": {
          "base_uri": "https://localhost:8080/",
          "height": 70
        },
        "id": "a_b9KZn3-t6t",
        "outputId": "55968ffe-2ed3-4d88-d3ae-8ea4929aeadc"
      },
      "execution_count": 12,
      "outputs": [
        {
          "output_type": "stream",
          "name": "stdout",
          "text": [
            "6\n",
            "15\n"
          ]
        },
        {
          "output_type": "execute_result",
          "data": {
            "text/plain": [
              "'     navjot    '"
            ],
            "application/vnd.google.colaboratory.intrinsic+json": {
              "type": "string"
            }
          },
          "metadata": {},
          "execution_count": 12
        }
      ]
    },
    {
      "cell_type": "code",
      "source": [
        "#expandtabs method\n",
        "\n",
        "original_string = \"My\\tname\\tis\\tNavjot \"\n",
        "print(original_string)\n",
        "expanded_string_default = original_string.expandtabs()\n",
        "print(expanded_string_default)\n",
        "expanded_stiring_custom = original_string.expandtabs(4)\n",
        "print(expanded_stiring_custom)\n"
      ],
      "metadata": {
        "colab": {
          "base_uri": "https://localhost:8080/"
        },
        "id": "qWIzzath_DGn",
        "outputId": "6392e39b-fe43-4330-fa46-efcfd13bcada"
      },
      "execution_count": 17,
      "outputs": [
        {
          "output_type": "stream",
          "name": "stdout",
          "text": [
            "My\tname\tis\tNavjot \n",
            "My      name    is      Navjot \n",
            "My  name    is  Navjot \n"
          ]
        }
      ]
    },
    {
      "cell_type": "code",
      "source": [
        "name = \"navjot\"\n",
        "x = name.isalnum()\n",
        "x"
      ],
      "metadata": {
        "colab": {
          "base_uri": "https://localhost:8080/"
        },
        "id": "ZPZJWCyU_iIQ",
        "outputId": "1ad1f601-8649-4baa-93ed-75bdd3ac91a7"
      },
      "execution_count": 18,
      "outputs": [
        {
          "output_type": "execute_result",
          "data": {
            "text/plain": [
              "True"
            ]
          },
          "metadata": {},
          "execution_count": 18
        }
      ]
    },
    {
      "cell_type": "code",
      "source": [
        "name = \"navjot120\"\n",
        "x = name.isalnum()\n",
        "x"
      ],
      "metadata": {
        "colab": {
          "base_uri": "https://localhost:8080/"
        },
        "id": "qWpQtepXAGMj",
        "outputId": "81ae88f6-a05a-4400-fffd-1772c11f3dc1"
      },
      "execution_count": 22,
      "outputs": [
        {
          "output_type": "execute_result",
          "data": {
            "text/plain": [
              "True"
            ]
          },
          "metadata": {},
          "execution_count": 22
        }
      ]
    },
    {
      "cell_type": "code",
      "source": [
        "nums ='123'\n",
        "y = nums.isnumeric()\n",
        "y"
      ],
      "metadata": {
        "colab": {
          "base_uri": "https://localhost:8080/"
        },
        "id": "_jB-OB3wAJAf",
        "outputId": "f7b9943e-a2fa-4abe-ccea-2a3bb7261cf3"
      },
      "execution_count": 24,
      "outputs": [
        {
          "output_type": "execute_result",
          "data": {
            "text/plain": [
              "True"
            ]
          },
          "metadata": {},
          "execution_count": 24
        }
      ]
    },
    {
      "cell_type": "code",
      "source": [
        "name = \"navjot\"\n",
        "y = name.islower()\n",
        "y"
      ],
      "metadata": {
        "colab": {
          "base_uri": "https://localhost:8080/"
        },
        "id": "dI6rs6BYAXF0",
        "outputId": "f388d345-e5a2-4263-c00a-4cdaee5616b3"
      },
      "execution_count": 26,
      "outputs": [
        {
          "output_type": "execute_result",
          "data": {
            "text/plain": [
              "True"
            ]
          },
          "metadata": {},
          "execution_count": 26
        }
      ]
    },
    {
      "cell_type": "code",
      "source": [
        "name = \"navjot\"\n",
        "u = name.index('v')\n",
        "print(u)"
      ],
      "metadata": {
        "colab": {
          "base_uri": "https://localhost:8080/"
        },
        "id": "F7i8yuovAfQM",
        "outputId": "9efcb78e-7756-467e-937f-d321d18e73a6"
      },
      "execution_count": 27,
      "outputs": [
        {
          "output_type": "stream",
          "name": "stdout",
          "text": [
            "2\n"
          ]
        }
      ]
    },
    {
      "cell_type": "code",
      "source": [
        "name = \"navjot\"\n",
        "u = name.find('j')\n",
        "print(u)"
      ],
      "metadata": {
        "colab": {
          "base_uri": "https://localhost:8080/"
        },
        "id": "QFAifioDAtFX",
        "outputId": "5fb6af7b-bfdc-45e7-9697-8c4fac032ccf"
      },
      "execution_count": 29,
      "outputs": [
        {
          "output_type": "stream",
          "name": "stdout",
          "text": [
            "3\n"
          ]
        }
      ]
    },
    {
      "cell_type": "code",
      "source": [
        "original_string = \"Hello World\"\n",
        "casefolded_string = original_string.casefold()\n",
        "lower_string = original_string.lower()\n",
        "\n",
        "print(\"original_string is \", original_string)\n",
        "print('casefolded_string is ',casefolded_string)\n",
        "print('lower_string is ',lower_string)"
      ],
      "metadata": {
        "colab": {
          "base_uri": "https://localhost:8080/"
        },
        "id": "KDLrZP0yA7qL",
        "outputId": "f6ecfed7-893b-4aa3-f2b4-490ad665b632"
      },
      "execution_count": 30,
      "outputs": [
        {
          "output_type": "stream",
          "name": "stdout",
          "text": [
            "original_string is  Hello World\n",
            "casefolded_string is  hello world\n",
            "lower_string is  hello world\n"
          ]
        }
      ]
    },
    {
      "cell_type": "code",
      "source": [
        "s1 = \"Straße\" # German sharp-s\n",
        "s2 = \"strasse\" # Latin letter 's' followed by 't', 'r', 'a', 's', 's', 'e'\n",
        "# Using str.lower()\n",
        "lower_s1 = s1.lower()\n",
        "lower_s2 = s2.lower()\n",
        "# Using str.casefold()\n",
        "casefold_s1 = s1.casefold()\n",
        "casefold_s2 = s2.casefold()\n",
        "print(\"Lowercase s1:\", lower_s1)\n",
        "print(\"Lowercase s2:\", lower_s2)\n",
        "print(\"Casefolded s1:\", casefold_s1)\n",
        "print(\"Casefolded s2:\", casefold_s2)"
      ],
      "metadata": {
        "colab": {
          "base_uri": "https://localhost:8080/"
        },
        "id": "35k3oy6QBf9e",
        "outputId": "c7ad8d33-d9f8-4a8d-b83d-c70f10de236d"
      },
      "execution_count": 31,
      "outputs": [
        {
          "output_type": "stream",
          "name": "stdout",
          "text": [
            "Lowercase s1: straße\n",
            "Lowercase s2: strasse\n",
            "Casefolded s1: strasse\n",
            "Casefolded s2: strasse\n"
          ]
        }
      ]
    },
    {
      "cell_type": "markdown",
      "source": [
        "**Problem 1:**\n",
        "String Manipulation:\n",
        "\n",
        "Write a Python program that reverses a given string.\n",
        "\n",
        "Given a string, write a function to count the number of vowels in it.\n",
        "\n",
        "Write a program to check if a string is a palindrome.\n",
        "\n",
        "Implement a function to capitalize the first letter of each word in a sentence.\n"
      ],
      "metadata": {
        "id": "gndZiLRhCEOk"
      }
    },
    {
      "cell_type": "code",
      "source": [
        "name = \"navjot\"\n",
        "x = name[::-1]\n",
        "print(x)"
      ],
      "metadata": {
        "colab": {
          "base_uri": "https://localhost:8080/"
        },
        "id": "rVrT2SKgBsNx",
        "outputId": "fe50ddc9-ee36-4534-bbfc-d9a743f951d5"
      },
      "execution_count": 34,
      "outputs": [
        {
          "output_type": "stream",
          "name": "stdout",
          "text": [
            "tojvan\n"
          ]
        }
      ]
    },
    {
      "cell_type": "code",
      "source": [
        "x = \"madam\"\n",
        "if x[::-1] == x:\n",
        "  print(\"string is palindrome\")\n",
        "else:\n",
        "  print(\"string is not palindrome\")\n",
        "y = x.title()\n",
        "print(y)"
      ],
      "metadata": {
        "colab": {
          "base_uri": "https://localhost:8080/"
        },
        "id": "FvCR5Od8CNtR",
        "outputId": "562a7f4f-4ba6-49f2-970f-cef6b6a30646"
      },
      "execution_count": 36,
      "outputs": [
        {
          "output_type": "stream",
          "name": "stdout",
          "text": [
            "string is palindrome\n",
            "Madam\n"
          ]
        }
      ]
    },
    {
      "cell_type": "markdown",
      "source": [
        "**Problem 2:**\n",
        "String Searching and Counting:\n",
        "\n",
        "Write a function to find the index of the first occurrence of a substring in a given string.\n",
        "\n",
        "Count the occurrences of a specific word in a paragraph.\n",
        "\n",
        "Write a program to extract all email addresses from a given text."
      ],
      "metadata": {
        "id": "Vo5EJP7bEZDn"
      }
    },
    {
      "cell_type": "code",
      "source": [
        "name = \"navjota\"\n",
        "u = name.find('j')\n",
        "print(\"j is at\",u,\" index\")\n",
        "x = name.count('a')\n",
        "print(\"letter a is occurs \",x,\"times\")\n"
      ],
      "metadata": {
        "colab": {
          "base_uri": "https://localhost:8080/"
        },
        "id": "JVQ7veVxEISn",
        "outputId": "f4cdf134-8cde-4489-9535-f5c6ea8f7ab2"
      },
      "execution_count": 39,
      "outputs": [
        {
          "output_type": "stream",
          "name": "stdout",
          "text": [
            "j is at 3  index\n",
            "letter a is occurs  2 times\n"
          ]
        }
      ]
    },
    {
      "cell_type": "markdown",
      "source": [
        "**Problem 3:**\n",
        "String Slicing and Concatenation:\n",
        "\n",
        "Given a sentence, extract the last three words.\n",
        "\n",
        "Concatenate two strings with a space in between.\n",
        "\n",
        "Write a program that removes leading and trailing whitespaces from a string"
      ],
      "metadata": {
        "id": "Ey6uk1pMFhzg"
      }
    },
    {
      "cell_type": "code",
      "source": [
        "name = \"navjot\"\n",
        "name1 = \" kaur\"\n",
        "print(name[3:6])\n",
        "c = name+ name1\n",
        "print(c)\n"
      ],
      "metadata": {
        "colab": {
          "base_uri": "https://localhost:8080/"
        },
        "id": "j4x3mVHEFRgF",
        "outputId": "859e360f-c2db-4a07-8414-a027f56b5e19"
      },
      "execution_count": 42,
      "outputs": [
        {
          "output_type": "stream",
          "name": "stdout",
          "text": [
            "jot\n",
            "navjot kaur\n"
          ]
        }
      ]
    },
    {
      "cell_type": "code",
      "source": [],
      "metadata": {
        "id": "SCwNWAvmF-n9"
      },
      "execution_count": null,
      "outputs": []
    }
  ]
}