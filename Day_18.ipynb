{
  "nbformat": 4,
  "nbformat_minor": 0,
  "metadata": {
    "colab": {
      "provenance": [],
      "authorship_tag": "ABX9TyPEfPFoZhRQtxreQRLk1ic9",
      "include_colab_link": true
    },
    "kernelspec": {
      "name": "python3",
      "display_name": "Python 3"
    },
    "language_info": {
      "name": "python"
    }
  },
  "cells": [
    {
      "cell_type": "markdown",
      "metadata": {
        "id": "view-in-github",
        "colab_type": "text"
      },
      "source": [
        "<a href=\"https://colab.research.google.com/github/Navjotkarkhal/TR-102-/blob/main/Day_18.ipynb\" target=\"_parent\"><img src=\"https://colab.research.google.com/assets/colab-badge.svg\" alt=\"Open In Colab\"/></a>"
      ]
    },
    {
      "cell_type": "markdown",
      "source": [
        "Write a solution to create a DataFrame from a 2D list called student_data. This 2D list contains the IDs and ages of some students.\n",
        "\n",
        "The DataFrame should have two columns, student_id and age, and be in the same order as the original 2D list.\n",
        "\n",
        "The result format is in the following example.\n",
        "\n",
        "Example 1:\n",
        "\n",
        "Input:\n",
        "student_data:\n",
        "[\n",
        "  [1, 15],\n",
        "  [2, 11],\n",
        "  [3, 11],\n",
        "  [4, 20]\n",
        "]\n",
        "Output:\n",
        "+------------+-----+\n",
        "| student_id | age |\n",
        "+------------+-----+\n",
        "| 1          | 15  |\n",
        "| 2          | 11  |\n",
        "| 3          | 11  |\n",
        "| 4          | 20  |\n",
        "+------------+-----+"
      ],
      "metadata": {
        "id": "pUUN6VftBP8A"
      }
    },
    {
      "cell_type": "code",
      "execution_count": 1,
      "metadata": {
        "colab": {
          "base_uri": "https://localhost:8080/"
        },
        "id": "7ixZbiv_BN5C",
        "outputId": "0e6dedf9-1623-4d83-b753-369a5b3f5d40"
      },
      "outputs": [
        {
          "output_type": "stream",
          "name": "stdout",
          "text": [
            "   student_id  age\n",
            "0           1   15\n",
            "1           2   11\n",
            "2           3   11\n",
            "3           4   20\n"
          ]
        }
      ],
      "source": [
        "import pandas as pd\n",
        "\n",
        "def createDataframe(student_data):\n",
        "    # Create a DataFrame\n",
        "    df = pd.DataFrame(student_data, columns=['student_id', 'age'])\n",
        "    return df\n",
        "\n",
        "# Example usage:\n",
        "student_data = [\n",
        "    [1, 15],\n",
        "    [2, 11],\n",
        "    [3, 11],\n",
        "    [4, 20]\n",
        "]\n",
        "\n",
        "# Creating the DataFrame\n",
        "result_table = createDataframe(student_data)\n",
        "\n",
        "# Display the DataFrame\n",
        "print(result_table)\n"
      ]
    },
    {
      "cell_type": "markdown",
      "source": [
        "DataFrame players:\n",
        "\n",
        "+-------------+--------+\n",
        "| Column Name | Type   |\n",
        "+-------------+--------+\n",
        "| player_id   | int    |\n",
        "| name        | object |\n",
        "| age         | int    |\n",
        "| position    | object |\n",
        "| ...         | ...    |\n",
        "+-------------+--------+\n",
        "\n",
        "Write a solution to calculate and display the number of rows and columns of players.\n",
        "\n",
        "\n",
        "Return the result as an array:\n",
        "\n",
        "[number of rows, number of columns]\n",
        "\n",
        "The result format is in the following example."
      ],
      "metadata": {
        "id": "cM-XVxxWCtyS"
      }
    },
    {
      "cell_type": "code",
      "source": [
        "import pandas as pd\n",
        "from typing import List\n",
        "\n",
        "def getDataframeSize(players: pd.DataFrame) -> List[int]:\n",
        "    # Get the shape of the DataFrame\n",
        "    rows, columns = players.shape\n",
        "    # Return the number of rows and columns as a list\n",
        "    return [rows, columns]\n",
        "\n",
        "# Example usage:\n",
        "players_data = {\n",
        "    'player_id': [1, 2, 3, 4],\n",
        "    'name': ['Alice', 'Bob', 'Charlie', 'David'],\n",
        "    'age': [24, 30, 22, 29],\n",
        "    'position': ['Forward', 'Midfielder', 'Defender', 'Goalkeeper']\n",
        "}\n",
        "\n",
        "# Create a DataFrame\n",
        "players = pd.DataFrame(players_data)\n",
        "\n",
        "# Get the size of the DataFrame\n",
        "size = getDataframeSize(players)\n",
        "\n",
        "# Print the size\n",
        "print(size)  # Output: [4, 4]\n",
        "\n"
      ],
      "metadata": {
        "colab": {
          "base_uri": "https://localhost:8080/"
        },
        "id": "M-aY0HdqBbQW",
        "outputId": "7a6ca4bf-acc7-45dd-e101-47ee520716c0"
      },
      "execution_count": 9,
      "outputs": [
        {
          "output_type": "stream",
          "name": "stdout",
          "text": [
            "[4, 4]\n"
          ]
        }
      ]
    },
    {
      "cell_type": "code",
      "source": [],
      "metadata": {
        "id": "fnd6JrgrC0vV"
      },
      "execution_count": null,
      "outputs": []
    }
  ]
}