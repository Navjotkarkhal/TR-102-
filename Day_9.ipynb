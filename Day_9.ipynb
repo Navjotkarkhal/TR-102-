{
  "nbformat": 4,
  "nbformat_minor": 0,
  "metadata": {
    "colab": {
      "provenance": [],
      "authorship_tag": "ABX9TyPzt5xBw/ceAvWYu/zrN73v",
      "include_colab_link": true
    },
    "kernelspec": {
      "name": "python3",
      "display_name": "Python 3"
    },
    "language_info": {
      "name": "python"
    }
  },
  "cells": [
    {
      "cell_type": "markdown",
      "metadata": {
        "id": "view-in-github",
        "colab_type": "text"
      },
      "source": [
        "<a href=\"https://colab.research.google.com/github/Navjotkarkhal/TR-102-/blob/main/Day_9.ipynb\" target=\"_parent\"><img src=\"https://colab.research.google.com/assets/colab-badge.svg\" alt=\"Open In Colab\"/></a>"
      ]
    },
    {
      "cell_type": "markdown",
      "source": [
        "Today i learn Iterative statements in python .\n",
        "\n",
        "Loops are important in Python or in any other programming language as they help you to execute a block of code repeatedly. You will often come face to face with situations where you would need to use a piece of code over and over but you don't want to write the same line of code multiple times.\n"
      ],
      "metadata": {
        "id": "RK_8dq8gik7P"
      }
    },
    {
      "cell_type": "markdown",
      "source": [
        "For loops"
      ],
      "metadata": {
        "id": "q8-4FfAWi14o"
      }
    },
    {
      "cell_type": "code",
      "source": [
        "for i in range(1,11):\n",
        "  print(i)"
      ],
      "metadata": {
        "colab": {
          "base_uri": "https://localhost:8080/"
        },
        "id": "GopDDTVLi9xj",
        "outputId": "ad9efd81-2eab-45d0-8fd7-256ab06f382b"
      },
      "execution_count": 1,
      "outputs": [
        {
          "output_type": "stream",
          "name": "stdout",
          "text": [
            "1\n",
            "2\n",
            "3\n",
            "4\n",
            "5\n",
            "6\n",
            "7\n",
            "8\n",
            "9\n",
            "10\n"
          ]
        }
      ]
    },
    {
      "cell_type": "code",
      "source": [
        "for i in range(1,11):\n",
        "  print(i**2)"
      ],
      "metadata": {
        "colab": {
          "base_uri": "https://localhost:8080/"
        },
        "id": "ofx03wCdjBhT",
        "outputId": "f95c3817-78b5-42cc-ffe6-74d4bc8c4e4c"
      },
      "execution_count": 2,
      "outputs": [
        {
          "output_type": "stream",
          "name": "stdout",
          "text": [
            "1\n",
            "4\n",
            "9\n",
            "16\n",
            "25\n",
            "36\n",
            "49\n",
            "64\n",
            "81\n",
            "100\n"
          ]
        }
      ]
    },
    {
      "cell_type": "code",
      "source": [
        "l1=[1,2,3,4]\n",
        "add=0\n",
        "for i in l1:\n",
        "  add=add+i\n",
        "  # print(add)\n",
        "print(add)"
      ],
      "metadata": {
        "colab": {
          "base_uri": "https://localhost:8080/"
        },
        "id": "1CLUZiiZjHAN",
        "outputId": "63368251-93fc-430d-950a-bc36994d3847"
      },
      "execution_count": 3,
      "outputs": [
        {
          "output_type": "stream",
          "name": "stdout",
          "text": [
            "10\n"
          ]
        }
      ]
    },
    {
      "cell_type": "code",
      "execution_count": 2,
      "metadata": {
        "id": "2Bgs1CNdHwwK",
        "colab": {
          "base_uri": "https://localhost:8080/"
        },
        "outputId": "1cd87f41-7e12-40a3-a0b7-9d6bab1ef058"
      },
      "outputs": [
        {
          "output_type": "stream",
          "name": "stdout",
          "text": [
            "enter number:3\n",
            "6\n"
          ]
        }
      ],
      "source": [
        "num = int(input(\"enter number:\"))\n",
        "if num == 0:\n",
        "  print(1)\n",
        "elif num == 1:\n",
        "  print(1)\n",
        "else:\n",
        "  fact =1\n",
        "  for i in range(1,num+1):\n",
        "    fact=fact*i;\n",
        "\n",
        "\n",
        "print(fact)"
      ]
    },
    {
      "cell_type": "code",
      "source": [
        "a = int(input(\"enter 1st operand\"))\n",
        "b =int(input(\"enter 2nd operand\"))\n",
        "operator = input(\"enter operator\")\n",
        "if operator == '+':\n",
        "  print(a+b)\n",
        "elif operator == '-':\n",
        "  print(a-b)\n",
        "elif operator == '*':\n",
        "  print(a*b)\n",
        "else:\n",
        "  print(\"enter valid operator\")\n",
        "\n",
        "\n"
      ],
      "metadata": {
        "colab": {
          "base_uri": "https://localhost:8080/"
        },
        "id": "hiPuWjXTIdyb",
        "outputId": "9ec22cf8-c615-4fa4-85d1-d279097d77d1"
      },
      "execution_count": 3,
      "outputs": [
        {
          "output_type": "stream",
          "name": "stdout",
          "text": [
            "enter 1st operand5\n",
            "enter 2nd operand3\n",
            "enter operator*\n",
            "15\n"
          ]
        }
      ]
    },
    {
      "cell_type": "code",
      "source": [
        "lis = [1,2,34,5,6,7,8,921,340]\n",
        "for i in lis:\n",
        "  if i %2 == 0:\n",
        "    print(\"even\")\n",
        "  else:\n",
        "    print(\"odd\")"
      ],
      "metadata": {
        "colab": {
          "base_uri": "https://localhost:8080/"
        },
        "id": "a0gcG221TmmM",
        "outputId": "f8df9485-ac84-483c-efa1-2ec387fa50c7"
      },
      "execution_count": 4,
      "outputs": [
        {
          "output_type": "stream",
          "name": "stdout",
          "text": [
            "odd\n",
            "even\n",
            "even\n",
            "odd\n",
            "even\n",
            "odd\n",
            "even\n",
            "odd\n",
            "even\n"
          ]
        }
      ]
    },
    {
      "cell_type": "markdown",
      "source": [
        "\n",
        "**While Loops **\n",
        "\n",
        "The while statement in Python is one of the most general ways to perform iteration. A while statement will repeatedly execute a single statement or group of statements as long as the condition is true. The reason it is called a 'loop' is because the code statements are looped through over and over again until the condition is no longer met\n",
        "\n",
        "general syntax for while loop\n",
        "\n",
        "while test:\n",
        "\n",
        "    code statements\n",
        "\n",
        "else:\n",
        "\n",
        "    final code statements"
      ],
      "metadata": {
        "id": "16w6tNk9jjS4"
      }
    },
    {
      "cell_type": "code",
      "source": [
        "x = 0\n",
        "\n",
        "while x < 10:\n",
        "  print('x is currently: ',x)\n",
        "  # print('x is still less than 10, adding 1 to x')\n",
        "  x=x+1"
      ],
      "metadata": {
        "colab": {
          "base_uri": "https://localhost:8080/"
        },
        "id": "q2Os7DGZV17e",
        "outputId": "f174f738-6081-4665-c7fb-1ae5534f8496"
      },
      "execution_count": 4,
      "outputs": [
        {
          "output_type": "stream",
          "name": "stdout",
          "text": [
            "x is currently:  0\n",
            "x is currently:  1\n",
            "x is currently:  2\n",
            "x is currently:  3\n",
            "x is currently:  4\n",
            "x is currently:  5\n",
            "x is currently:  6\n",
            "x is currently:  7\n",
            "x is currently:  8\n",
            "x is currently:  9\n"
          ]
        }
      ]
    },
    {
      "cell_type": "code",
      "source": [
        "x = 0\n",
        "\n",
        "while x < 5:\n",
        "  print('x is currently: ',x)\n",
        "  print(' x is still less than 10, adding 1 to x')\n",
        "  x+=1\n",
        "\n",
        "print(\"All done\")\n",
        "print(\"I am done with the iterations\")"
      ],
      "metadata": {
        "colab": {
          "base_uri": "https://localhost:8080/"
        },
        "id": "3HnKccncj3vI",
        "outputId": "966c3fe1-9d81-47b2-8151-40730d1e0c35"
      },
      "execution_count": 5,
      "outputs": [
        {
          "output_type": "stream",
          "name": "stdout",
          "text": [
            "x is currently:  0\n",
            " x is still less than 10, adding 1 to x\n",
            "x is currently:  1\n",
            " x is still less than 10, adding 1 to x\n",
            "x is currently:  2\n",
            " x is still less than 10, adding 1 to x\n",
            "x is currently:  3\n",
            " x is still less than 10, adding 1 to x\n",
            "x is currently:  4\n",
            " x is still less than 10, adding 1 to x\n",
            "All done\n",
            "I am done with the iterations\n"
          ]
        }
      ]
    },
    {
      "cell_type": "markdown",
      "source": [
        "**break, continue, pass**\n",
        "\n",
        "We can use break, continue, and pass statements in our loops to add additional functionality for various cases. The three statements are defined by:\n",
        "\n",
        "break: Breaks out of the current closest enclosing loop.\n",
        "\n",
        "continue: Goes to the top of the closest enclosing loop.\n",
        "\n",
        "pass: Does nothing at all."
      ],
      "metadata": {
        "id": "glDsQZdYkA7v"
      }
    },
    {
      "cell_type": "code",
      "source": [
        "x = 0\n",
        "\n",
        "while x < 10:\n",
        "  print('x is currently: ',x)\n",
        "  x=x+1\n",
        "  if x==3:\n",
        "    print('x==3')\n",
        "    break\n",
        "  else:\n",
        "    print('continuing...')\n",
        "    continue"
      ],
      "metadata": {
        "colab": {
          "base_uri": "https://localhost:8080/"
        },
        "id": "5nNqSo85j82E",
        "outputId": "ecafdd8b-bbf2-4ce9-9b5e-85ba5993d08e"
      },
      "execution_count": 6,
      "outputs": [
        {
          "output_type": "stream",
          "name": "stdout",
          "text": [
            "x is currently:  0\n",
            "continuing...\n",
            "x is currently:  1\n",
            "continuing...\n",
            "x is currently:  2\n",
            "x==3\n"
          ]
        }
      ]
    },
    {
      "cell_type": "markdown",
      "source": [
        "**Project 1:**\n",
        "Make Rock- Paper-Scissors game using the concepts you have learnt so far."
      ],
      "metadata": {
        "id": "yE2qdcd_kWnF"
      }
    },
    {
      "cell_type": "code",
      "source": [
        "import random\n",
        "\n",
        "choices = [\"Paper\", \"Scissor\", \"Rock\"]\n",
        "\n",
        "while True:\n",
        "    print(\"Please enter your choice: \\nPaper \\nScissor \\nRock\")\n",
        "    choice = input(\"Enter valid choice: \")\n",
        "    while choice not in choices:\n",
        "        print(\"Invalid choice, please try again.\")\n",
        "        choice = input(\"Enter valid choice: \")\n",
        "\n",
        "    print(\"Now it's computer's turn...\")\n",
        "    comp_choice = random.choice(choices)\n",
        "    print(f\"Computer choice is: {comp_choice}\")\n",
        "\n",
        "    if choice == comp_choice:\n",
        "        print(\"Match is a draw\")\n",
        "    elif (choice == \"Rock\" and comp_choice == \"Scissor\") or \\\n",
        "         (choice == \"Scissor\" and comp_choice == \"Paper\") or \\\n",
        "         (choice == \"Paper\" and comp_choice == \"Rock\"):\n",
        "        print(\"You are the winner!\")\n",
        "    else:\n",
        "        print(\"Computer wins!\")\n",
        "\n",
        "\n",
        ""
      ],
      "metadata": {
        "colab": {
          "base_uri": "https://localhost:8080/"
        },
        "id": "tuU2-jX4kOHB",
        "outputId": "40f8571d-adf0-4588-ea22-07b0a429fddd"
      },
      "execution_count": null,
      "outputs": [
        {
          "output_type": "stream",
          "name": "stdout",
          "text": [
            "Please enter your choice: \n",
            "Paper \n",
            "Scissor \n",
            "Rock\n",
            "Enter valid choice: Paper\n",
            "Now it's computer's turn...\n",
            "Computer choice is: Rock\n",
            "You are the winner!\n",
            "Please enter your choice: \n",
            "Paper \n",
            "Scissor \n",
            "Rock\n",
            "Enter valid choice: Rock\n",
            "Now it's computer's turn...\n",
            "Computer choice is: Paper\n",
            "Computer wins!\n",
            "Please enter your choice: \n",
            "Paper \n",
            "Scissor \n",
            "Rock\n",
            "Enter valid choice: Scissor\n",
            "Now it's computer's turn...\n",
            "Computer choice is: Rock\n",
            "Computer wins!\n",
            "Please enter your choice: \n",
            "Paper \n",
            "Scissor \n",
            "Rock\n"
          ]
        }
      ]
    },
    {
      "cell_type": "code",
      "source": [],
      "metadata": {
        "id": "j3aE42TRmTbM"
      },
      "execution_count": null,
      "outputs": []
    }
  ]
}